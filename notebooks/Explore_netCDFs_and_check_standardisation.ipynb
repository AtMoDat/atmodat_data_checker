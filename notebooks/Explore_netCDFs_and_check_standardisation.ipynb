{
 "cells": [
  {
   "cell_type": "markdown",
   "id": "7a07d79c-9831-4e67-8f90-e2a6e05137c4",
   "metadata": {
    "tags": []
   },
   "source": [
    "***\n",
    "# Demo Jupyter Notebook for the EMS21 User Workshop ![AtMoDat Image](https://www.dkrz.de/en/projects-and-partners/projects-1/atmodat-1/@@images/logo/preview)\n",
    "***\n",
    "## Standardized, FAIR and CF-compliant publication of urban climate model data.\n",
    "          for details, please see https://meetingorganizer.copernicus.org/EMS2021/session/41771#"
   ]
  },
  {
   "cell_type": "markdown",
   "id": "58d403f3-3c24-4fd6-859b-b27d864c04f1",
   "metadata": {},
   "source": [
    "<div class=\"alert-info\" role=\"alert\">\n",
    "  <h4 class=\"alert-heading\"><span style=\"font-family: Arial; font-size:1.4em;color:black;\"> README</h4>\n",
    "  <p><span style=\"font-family: Arial; font-size:1.0em;color:black;\"> – For demonstration purposes, we use a netCDF file created from CMIP6 model output. <br> \n",
    "      – We prepared test netCDF files are stored in the directory.  </p> To to execute BASH commands in a cell, put %%bash in the first line of that cell.</p>\n",
    "  <hr>\n",
    "</div>"
   ]
  },
  {
   "cell_type": "markdown",
   "id": "115be68d-0d8e-4cbc-a95c-e76f253ae24f",
   "metadata": {},
   "source": [
    "### Step 1: Check available netCDF files in demo_data directory"
   ]
  },
  {
   "cell_type": "markdown",
   "id": "1a5a4447-9e4d-41cc-b19f-c6eeb8569686",
   "metadata": {},
   "source": [
    "using BASH listing command `ls`  (-lh option to print out details on files inlcuding human-readible file sizes)"
   ]
  },
  {
   "cell_type": "code",
   "execution_count": 1,
   "id": "1eaaaff6-b941-4e92-9ea2-4707678cd8b4",
   "metadata": {},
   "outputs": [
    {
     "name": "stdout",
     "output_type": "stream",
     "text": [
      "-rw-r--r--  1 angelika  staff    54K  5 Sep 14:02 demo_data/ALL_ATMODAT_ATTRIBUTES.nc\n",
      "-rw-r--r--  1 angelika  staff    51K 26 Aug 16:56 demo_data/CMIP6_ATTRIBUTES.nc\n",
      "-rw-r--r--  1 angelika  staff    27K 27 Aug 09:55 demo_data/MINUM_ATMODAT_ATTRIBUTES.nc\n",
      "-rw-r--r--  1 angelika  staff    26K 27 Aug 09:55 demo_data/NO_ATTRIBUTES.nc\n",
      "-rw-r--r--  1 angelika  staff    27K 27 Aug 10:16 demo_data/WRONG_STANDARDNAME.nc\n"
     ]
    }
   ],
   "source": [
    "%%bash\n",
    "ls -lh demo_data/*.nc"
   ]
  },
  {
   "cell_type": "markdown",
   "id": "3a4643ee-2cf5-46d7-a5ac-ae3e1af87201",
   "metadata": {},
   "source": [
    "### Step 2: Exploring netCDF file content with NCOs"
   ]
  },
  {
   "cell_type": "markdown",
   "id": "b717e56b-ad93-4eed-8a7f-25f81d6975cc",
   "metadata": {},
   "source": [
    "using the BASH terminal command `ncatted -h`   (-h options means that only the netCDF header is shown)"
   ]
  },
  {
   "cell_type": "markdown",
   "id": "3e034bc0-2718-442c-84fc-2f085df73c90",
   "metadata": {
    "tags": []
   },
   "source": [
    "#### Step 2.1: This is how a CMIP6 netCDF file looks without any metadata"
   ]
  },
  {
   "cell_type": "code",
   "execution_count": 16,
   "id": "e88010bd-cc26-4e4e-b1f6-fc7c30ea4801",
   "metadata": {
    "tags": []
   },
   "outputs": [
    {
     "name": "stdout",
     "output_type": "stream",
     "text": [
      "netcdf NO_ATTRIBUTES {\n",
      "dimensions:\n",
      "\tlat = 9 ;\n",
      "\tlon = 11 ;\n",
      "\ttime = UNLIMITED ; // (8 currently)\n",
      "variables:\n",
      "\tdouble lat(lat) ;\n",
      "\tdouble lon(lon) ;\n",
      "\tfloat ps(time, lat, lon) ;\n",
      "\tfloat tas(time, lat, lon) ;\n",
      "\tdouble time(time) ;\n",
      "}\n"
     ]
    }
   ],
   "source": [
    "%%bash\n",
    "ncdump -h demo_data/NO_ATTRIBUTES.nc"
   ]
  },
  {
   "cell_type": "markdown",
   "id": "3cdcf8aa-e526-402a-b465-8eb58aa70dcc",
   "metadata": {},
   "source": [
    "#### Step 2.2: This is how a CMIP6 netCDF file looks that contains all mandatory ATMODAT Standard attributes"
   ]
  },
  {
   "cell_type": "code",
   "execution_count": null,
   "id": "79505804-6fdc-45e4-801c-7bebc9fc981f",
   "metadata": {},
   "outputs": [],
   "source": [
    "%%bash\n",
    "ncdump -h demo_data/ALL_ATMODAT_ATTRIBUTES.nc"
   ]
  },
  {
   "cell_type": "markdown",
   "id": "b8c4a3ba-d03b-4124-aad2-a1133c457bc5",
   "metadata": {},
   "source": [
    "#### Step 2.2: This is how a CMIP6 netCDF file looks that contains all ATMODAT Standard attributes (mandatory, recommended, optional)"
   ]
  },
  {
   "cell_type": "code",
   "execution_count": 21,
   "id": "07d3b0c9-0953-4a67-971d-554edb5f4ce3",
   "metadata": {
    "tags": []
   },
   "outputs": [
    {
     "name": "stdout",
     "output_type": "stream",
     "text": [
      "netcdf MINUM_ATMODAT_ATTRIBUTES {\n",
      "dimensions:\n",
      "\tlat = 9 ;\n",
      "\tlon = 11 ;\n",
      "\ttime = UNLIMITED ; // (8 currently)\n",
      "variables:\n",
      "\tdouble lat(lat) ;\n",
      "\t\tlat:long_name = \"Latitude\" ;\n",
      "\t\tlat:units = \"degrees_north\" ;\n",
      "\tdouble lon(lon) ;\n",
      "\t\tlon:long_name = \"Longitude\" ;\n",
      "\t\tlon:units = \"degrees_east\" ;\n",
      "\tfloat ps(time, lat, lon) ;\n",
      "\t\tps:long_name = \"Surface Air Pressure\" ;\n",
      "\t\tps:units = \"Pa\" ;\n",
      "\tfloat tas(time, lat, lon) ;\n",
      "\t\ttas:long_name = \"Near-Surface Air Temperature\" ;\n",
      "\t\ttas:units = \"K\" ;\n",
      "\tdouble time(time) ;\n",
      "\t\ttime:long_name = \"time\" ;\n",
      "\t\ttime:units = \"days since 1850-1-1 00:00:00\" ;\n",
      "\t\ttime:calendar = \"proleptic_gregorian\" ;\n",
      "\n",
      "// global attributes:\n",
      "\t\t:Conventions = \"CF-1.8 ATMODAT-3.0\" ;\n",
      "\t\t:institution = \"Max Planck Institute for Meteorology\" ;\n",
      "\t\t:source = \"MPI-ESM1.2-HR (2017)\" ;\n",
      "}\n"
     ]
    }
   ],
   "source": [
    "%%bash\n",
    "ncdump -h demo_data/MINUM_ATMODAT_ATTRIBUTES.nc"
   ]
  },
  {
   "cell_type": "markdown",
   "id": "4b26cd26-1250-4607-95a7-5d72227cae30",
   "metadata": {},
   "source": [
    "#### Step 2.3: This is how the original metadata look like in a CMIP6 netCDF file"
   ]
  },
  {
   "cell_type": "code",
   "execution_count": 18,
   "id": "b8210780-7dbf-452d-9e77-c56ad8bb6291",
   "metadata": {
    "tags": []
   },
   "outputs": [
    {
     "name": "stdout",
     "output_type": "stream",
     "text": [
      "netcdf CMIP6_ATTRIBUTES {\n",
      "dimensions:\n",
      "\ttime = UNLIMITED ; // (8 currently)\n",
      "\tlon = 11 ;\n",
      "\tbnds = 2 ;\n",
      "\tlat = 9 ;\n",
      "variables:\n",
      "\tdouble time(time) ;\n",
      "\t\ttime:standard_name = \"time\" ;\n",
      "\t\ttime:long_name = \"time\" ;\n",
      "\t\ttime:units = \"days since 1850-1-1 00:00:00\" ;\n",
      "\t\ttime:calendar = \"proleptic_gregorian\" ;\n",
      "\t\ttime:axis = \"T\" ;\n",
      "\tdouble lon(lon) ;\n",
      "\t\tlon:standard_name = \"longitude\" ;\n",
      "\t\tlon:long_name = \"Longitude\" ;\n",
      "\t\tlon:units = \"degrees_east\" ;\n",
      "\t\tlon:axis = \"X\" ;\n",
      "\t\tlon:bounds = \"lon_bnds\" ;\n",
      "\tdouble lon_bnds(lon, bnds) ;\n",
      "\tdouble lat(lat) ;\n",
      "\t\tlat:standard_name = \"latitude\" ;\n",
      "\t\tlat:long_name = \"Latitude\" ;\n",
      "\t\tlat:units = \"degrees_north\" ;\n",
      "\t\tlat:axis = \"Y\" ;\n",
      "\t\tlat:bounds = \"lat_bnds\" ;\n",
      "\tdouble lat_bnds(lat, bnds) ;\n",
      "\tdouble height ;\n",
      "\t\theight:standard_name = \"height\" ;\n",
      "\t\theight:long_name = \"height\" ;\n",
      "\t\theight:units = \"m\" ;\n",
      "\t\theight:positive = \"up\" ;\n",
      "\t\theight:axis = \"Z\" ;\n",
      "\tfloat ps(time, lat, lon) ;\n",
      "\t\tps:standard_name = \"surface_air_pressure\" ;\n",
      "\t\tps:long_name = \"Surface Air Pressure\" ;\n",
      "\t\tps:units = \"Pa\" ;\n",
      "\t\tps:CDI_grid_type = \"gaussian\" ;\n",
      "\t\tps:CDI_grid_num_LPE = 96 ;\n",
      "\t\tps:_FillValue = 1.e+20f ;\n",
      "\t\tps:missing_value = 1.e+20f ;\n",
      "\t\tps:comment = \"surface pressure (not mean sea-level pressure), 2-D field to calculate the 3-D pressure field from hybrid coordinates\" ;\n",
      "\t\tps:cell_methods = \"area: mean time: point\" ;\n",
      "\t\tps:cell_measures = \"area: areacella\" ;\n",
      "\t\tps:history = \"2019-08-25T09:49:09Z altered by CMOR: replaced missing value flag (-9e+33) and corresponding data with standard missing value (1e+20). 2019-08-25T09:49:09Z altered by CMOR: Inverted axis: lat.\" ;\n",
      "\tfloat tas(time, lat, lon) ;\n",
      "\t\ttas:standard_name = \"air_temperature\" ;\n",
      "\t\ttas:long_name = \"Near-Surface Air Temperature\" ;\n",
      "\t\ttas:units = \"K\" ;\n",
      "\t\ttas:CDI_grid_type = \"gaussian\" ;\n",
      "\t\ttas:CDI_grid_num_LPE = 96 ;\n",
      "\t\ttas:coordinates = \"height\" ;\n",
      "\t\ttas:_FillValue = 1.e+20f ;\n",
      "\t\ttas:missing_value = 1.e+20f ;\n",
      "\t\ttas:comment = \"near-surface (usually, 2 meter) air temperature\" ;\n",
      "\t\ttas:cell_methods = \"area: mean time: point\" ;\n",
      "\t\ttas:cell_measures = \"area: areacella\" ;\n",
      "\t\ttas:history = \"2019-08-25T09:49:09Z altered by CMOR: Treated scalar dimension: \\'height\\'. 2019-08-25T09:49:09Z altered by CMOR: replaced missing value flag (-9e+33) and corresponding data with standard missing value (1e+20). 2019-08-25T09:49:09Z altered by CMOR: Inverted axis: lat.\" ;\n",
      "\n",
      "// global attributes:\n",
      "\t\t:CDI = \"Climate Data Interface version 1.9.10 (https://mpimet.mpg.de/cdi)\" ;\n",
      "\t\t:source = \"MPI-ESM1.2-HR (2017): \\n\",\n",
      "\t\t\t\"aerosol: none, prescribed MACv2-SP\\n\",\n",
      "\t\t\t\"atmos: ECHAM6.3 (spectral T127; 384 x 192 longitude/latitude; 95 levels; top level 0.01 hPa)\\n\",\n",
      "\t\t\t\"atmosChem: none\\n\",\n",
      "\t\t\t\"land: JSBACH3.20\\n\",\n",
      "\t\t\t\"landIce: none/prescribed\\n\",\n",
      "\t\t\t\"ocean: MPIOM1.63 (tripolar TP04, approximately 0.4deg; 802 x 404 longitude/latitude; 40 levels; top grid cell 0-12 m)\\n\",\n",
      "\t\t\t\"ocnBgchem: HAMOCC6\\n\",\n",
      "\t\t\t\"seaIce: unnamed (thermodynamic (Semtner zero-layer) dynamic (Hibler 79) sea ice model)\" ;\n",
      "\t\t:institution = \"Max Planck Institute for Meteorology\" ;\n",
      "\t\t:Conventions = \"CF-1.7 CMIP-6.2\" ;\n",
      "\t\t:activity_id = \"CMIP\" ;\n",
      "\t\t:branch_method = \"standard\" ;\n",
      "\t\t:branch_time_in_child = 0. ;\n",
      "\t\t:branch_time_in_parent = 91310. ;\n",
      "\t\t:contact = \"cmip6-mpi-esm@dkrz.de\" ;\n",
      "\t\t:creation_date = \"2019-08-25T09:49:09Z\" ;\n",
      "\t\t:data_specs_version = \"01.00.30\" ;\n",
      "\t\t:experiment = \"all-forcing simulation of the recent past\" ;\n",
      "\t\t:experiment_id = \"historical\" ;\n",
      "\t\t:external_variables = \"areacella\" ;\n",
      "\t\t:forcing_index = 1 ;\n",
      "\t\t:frequency = \"3hrPt\" ;\n",
      "\t\t:further_info_url = \"https://furtherinfo.es-doc.org/CMIP6.MPI-M.MPI-ESM1-2-HR.historical.none.r6i1p1f1\" ;\n",
      "\t\t:grid = \"gn\" ;\n",
      "\t\t:grid_label = \"gn\" ;\n",
      "\t\t:history = \"Thu Aug 26 16:56:42 2021: cdo -s merge ps_CMIP6_MPI-ESM1-2-HR_hist_r6i1p1f1_Germany_2010-07-12.nc tas_CMIP6_MPI-ESM1-2-HR_hist_r6i1p1f1_Germany_2010-07-12.nc CMIP6_ATTRIBUTES.nc\\n\",\n",
      "\t\t\t\"Thu Aug 26 16:55:56 2021: cdo seldate,2010-07-12 -sellonlatbox,5,15,47,55 ps_3hr_MPI-ESM1-2-HR_historical_r6i1p1f1_gn_201001010300-201501010000.nc ps_CMIP6_MPI-ESM1-2-HR_hist_r6i1p1f1_Germany_2010-07-12.nc\\n\",\n",
      "\t\t\t\"2019-08-25T09:49:09Z ; CMOR rewrote data to be consistent with CMIP6, CF-1.7 CMIP-6.2 and CF standards.\" ;\n",
      "\t\t:initialization_index = 1 ;\n",
      "\t\t:institution_id = \"MPI-M\" ;\n",
      "\t\t:mip_era = \"CMIP6\" ;\n",
      "\t\t:nominal_resolution = \"100 km\" ;\n",
      "\t\t:parent_activity_id = \"CMIP\" ;\n",
      "\t\t:parent_experiment_id = \"piControl\" ;\n",
      "\t\t:parent_mip_era = \"CMIP6\" ;\n",
      "\t\t:parent_source_id = \"MPI-ESM1-2-HR\" ;\n",
      "\t\t:parent_time_units = \"days since 1850-1-1 00:00:00\" ;\n",
      "\t\t:parent_variant_label = \"r6i1p1f1\" ;\n",
      "\t\t:physics_index = 1 ;\n",
      "\t\t:product = \"model-output\" ;\n",
      "\t\t:project_id = \"CMIP6\" ;\n",
      "\t\t:realization_index = 6 ;\n",
      "\t\t:realm = \"atmos\" ;\n",
      "\t\t:references = \"MPI-ESM: Mauritsen, T. et al. (2019), Developments in the MPI‐M Earth System Model version 1.2 (MPI‐ESM1.2) and Its Response to Increasing CO2, J. Adv. Model. Earth Syst.,11, 998-1038, doi:10.1029/2018MS001400,\\n\",\n",
      "\t\t\t\"Mueller, W.A. et al. (2018): A high‐resolution version of the Max Planck Institute Earth System Model MPI‐ESM1.2‐HR. J. Adv. Model. EarthSyst.,10,1383–1413, doi:10.1029/2017MS001217\" ;\n",
      "\t\t:source_id = \"MPI-ESM1-2-HR\" ;\n",
      "\t\t:source_type = \"AOGCM\" ;\n",
      "\t\t:sub_experiment = \"none\" ;\n",
      "\t\t:sub_experiment_id = \"none\" ;\n",
      "\t\t:table_id = \"3hr\" ;\n",
      "\t\t:table_info = \"Creation Date:(09 May 2019) MD5:e6ef8ececc8f338646ebfb3aeed36bfc\" ;\n",
      "\t\t:title = \"MPI-ESM1-2-HR output prepared for CMIP6\" ;\n",
      "\t\t:variable_id = \"ps\" ;\n",
      "\t\t:variant_label = \"r6i1p1f1\" ;\n",
      "\t\t:license = \"CMIP6 model data produced by MPI-M is licensed under a Creative Commons Attribution ShareAlike 4.0 International License (https://creativecommons.org/licenses). Consult https://pcmdi.llnl.gov/CMIP6/TermsOfUse for terms of use governing CMIP6 output, including citation requirements and proper acknowledgment. Further information about this data, including some limitations, can be found via the further_info_url (recorded as a global attribute in this file) and. The data producers and data providers make no warranty, either express or implied, including, but not limited to, warranties of merchantability and fitness for a particular purpose. All liabilities arising from the supply of the information (including any liability arising in negligence) are excluded to the fullest extent permitted by law.\" ;\n",
      "\t\t:cmor_version = \"3.5.0\" ;\n",
      "\t\t:tracking_id = \"hdl:21.14100/c884c20a-8405-4efc-a8f2-7f8bd7861feb\" ;\n",
      "\t\t:CDO = \"Climate Data Operators version 1.9.10 (https://mpimet.mpg.de/cdo)\" ;\n",
      "}\n"
     ]
    }
   ],
   "source": [
    "%%bash\n",
    "ncdump -h demo_data/CMIP6_ATTRIBUTES.nc"
   ]
  },
  {
   "cell_type": "markdown",
   "id": "bda1ea5e-6db2-44a2-9d79-e3377dd15d84",
   "metadata": {
    "tags": []
   },
   "source": [
    "### Step 3: Exploring netCDF file content with xarray."
   ]
  },
  {
   "cell_type": "markdown",
   "id": "d0831521-8a1f-4477-8c9d-e83db9743517",
   "metadata": {},
   "source": [
    "#### Import required Python modules"
   ]
  },
  {
   "cell_type": "code",
   "execution_count": 1,
   "id": "cb93b91e-c188-4a50-bf3f-7cd792abb9cb",
   "metadata": {},
   "outputs": [],
   "source": [
    "import xarray as xr"
   ]
  },
  {
   "cell_type": "markdown",
   "id": "4582f96b-6c40-4ca5-8b1e-a9496594f6e3",
   "metadata": {},
   "source": [
    "#### Step 3.1: Read in unstandardised CMIP6 netCDF file demo_data/NOATTRIBUTES.nc"
   ]
  },
  {
   "cell_type": "code",
   "execution_count": 2,
   "id": "e8304387-7e83-456c-99a7-66a23f49df78",
   "metadata": {},
   "outputs": [],
   "source": [
    "ifile1 = 'demo_data/NO_ATTRIBUTES.nc'\n",
    "ds1    = xr.open_dataset(ifile1)"
   ]
  },
  {
   "cell_type": "markdown",
   "id": "5aedec83-046a-4b5e-a7fa-82e9fd22a147",
   "metadata": {},
   "source": [
    "####  Step 3.2: Have a look at the file content\n"
   ]
  },
  {
   "cell_type": "code",
   "execution_count": 10,
   "id": "fe18daa3-900e-48f4-96dd-ff2e0616baa1",
   "metadata": {
    "tags": []
   },
   "outputs": [
    {
     "data": {
      "text/html": [
       "<div><svg style=\"position: absolute; width: 0; height: 0; overflow: hidden\">\n",
       "<defs>\n",
       "<symbol id=\"icon-database\" viewBox=\"0 0 32 32\">\n",
       "<path d=\"M16 0c-8.837 0-16 2.239-16 5v4c0 2.761 7.163 5 16 5s16-2.239 16-5v-4c0-2.761-7.163-5-16-5z\"></path>\n",
       "<path d=\"M16 17c-8.837 0-16-2.239-16-5v6c0 2.761 7.163 5 16 5s16-2.239 16-5v-6c0 2.761-7.163 5-16 5z\"></path>\n",
       "<path d=\"M16 26c-8.837 0-16-2.239-16-5v6c0 2.761 7.163 5 16 5s16-2.239 16-5v-6c0 2.761-7.163 5-16 5z\"></path>\n",
       "</symbol>\n",
       "<symbol id=\"icon-file-text2\" viewBox=\"0 0 32 32\">\n",
       "<path d=\"M28.681 7.159c-0.694-0.947-1.662-2.053-2.724-3.116s-2.169-2.030-3.116-2.724c-1.612-1.182-2.393-1.319-2.841-1.319h-15.5c-1.378 0-2.5 1.121-2.5 2.5v27c0 1.378 1.122 2.5 2.5 2.5h23c1.378 0 2.5-1.122 2.5-2.5v-19.5c0-0.448-0.137-1.23-1.319-2.841zM24.543 5.457c0.959 0.959 1.712 1.825 2.268 2.543h-4.811v-4.811c0.718 0.556 1.584 1.309 2.543 2.268zM28 29.5c0 0.271-0.229 0.5-0.5 0.5h-23c-0.271 0-0.5-0.229-0.5-0.5v-27c0-0.271 0.229-0.5 0.5-0.5 0 0 15.499-0 15.5 0v7c0 0.552 0.448 1 1 1h7v19.5z\"></path>\n",
       "<path d=\"M23 26h-14c-0.552 0-1-0.448-1-1s0.448-1 1-1h14c0.552 0 1 0.448 1 1s-0.448 1-1 1z\"></path>\n",
       "<path d=\"M23 22h-14c-0.552 0-1-0.448-1-1s0.448-1 1-1h14c0.552 0 1 0.448 1 1s-0.448 1-1 1z\"></path>\n",
       "<path d=\"M23 18h-14c-0.552 0-1-0.448-1-1s0.448-1 1-1h14c0.552 0 1 0.448 1 1s-0.448 1-1 1z\"></path>\n",
       "</symbol>\n",
       "</defs>\n",
       "</svg>\n",
       "<style>/* CSS stylesheet for displaying xarray objects in jupyterlab.\n",
       " *\n",
       " */\n",
       "\n",
       ":root {\n",
       "  --xr-font-color0: var(--jp-content-font-color0, rgba(0, 0, 0, 1));\n",
       "  --xr-font-color2: var(--jp-content-font-color2, rgba(0, 0, 0, 0.54));\n",
       "  --xr-font-color3: var(--jp-content-font-color3, rgba(0, 0, 0, 0.38));\n",
       "  --xr-border-color: var(--jp-border-color2, #e0e0e0);\n",
       "  --xr-disabled-color: var(--jp-layout-color3, #bdbdbd);\n",
       "  --xr-background-color: var(--jp-layout-color0, white);\n",
       "  --xr-background-color-row-even: var(--jp-layout-color1, white);\n",
       "  --xr-background-color-row-odd: var(--jp-layout-color2, #eeeeee);\n",
       "}\n",
       "\n",
       "html[theme=dark],\n",
       "body.vscode-dark {\n",
       "  --xr-font-color0: rgba(255, 255, 255, 1);\n",
       "  --xr-font-color2: rgba(255, 255, 255, 0.54);\n",
       "  --xr-font-color3: rgba(255, 255, 255, 0.38);\n",
       "  --xr-border-color: #1F1F1F;\n",
       "  --xr-disabled-color: #515151;\n",
       "  --xr-background-color: #111111;\n",
       "  --xr-background-color-row-even: #111111;\n",
       "  --xr-background-color-row-odd: #313131;\n",
       "}\n",
       "\n",
       ".xr-wrap {\n",
       "  display: block;\n",
       "  min-width: 300px;\n",
       "  max-width: 700px;\n",
       "}\n",
       "\n",
       ".xr-text-repr-fallback {\n",
       "  /* fallback to plain text repr when CSS is not injected (untrusted notebook) */\n",
       "  display: none;\n",
       "}\n",
       "\n",
       ".xr-header {\n",
       "  padding-top: 6px;\n",
       "  padding-bottom: 6px;\n",
       "  margin-bottom: 4px;\n",
       "  border-bottom: solid 1px var(--xr-border-color);\n",
       "}\n",
       "\n",
       ".xr-header > div,\n",
       ".xr-header > ul {\n",
       "  display: inline;\n",
       "  margin-top: 0;\n",
       "  margin-bottom: 0;\n",
       "}\n",
       "\n",
       ".xr-obj-type,\n",
       ".xr-array-name {\n",
       "  margin-left: 2px;\n",
       "  margin-right: 10px;\n",
       "}\n",
       "\n",
       ".xr-obj-type {\n",
       "  color: var(--xr-font-color2);\n",
       "}\n",
       "\n",
       ".xr-sections {\n",
       "  padding-left: 0 !important;\n",
       "  display: grid;\n",
       "  grid-template-columns: 150px auto auto 1fr 20px 20px;\n",
       "}\n",
       "\n",
       ".xr-section-item {\n",
       "  display: contents;\n",
       "}\n",
       "\n",
       ".xr-section-item input {\n",
       "  display: none;\n",
       "}\n",
       "\n",
       ".xr-section-item input + label {\n",
       "  color: var(--xr-disabled-color);\n",
       "}\n",
       "\n",
       ".xr-section-item input:enabled + label {\n",
       "  cursor: pointer;\n",
       "  color: var(--xr-font-color2);\n",
       "}\n",
       "\n",
       ".xr-section-item input:enabled + label:hover {\n",
       "  color: var(--xr-font-color0);\n",
       "}\n",
       "\n",
       ".xr-section-summary {\n",
       "  grid-column: 1;\n",
       "  color: var(--xr-font-color2);\n",
       "  font-weight: 500;\n",
       "}\n",
       "\n",
       ".xr-section-summary > span {\n",
       "  display: inline-block;\n",
       "  padding-left: 0.5em;\n",
       "}\n",
       "\n",
       ".xr-section-summary-in:disabled + label {\n",
       "  color: var(--xr-font-color2);\n",
       "}\n",
       "\n",
       ".xr-section-summary-in + label:before {\n",
       "  display: inline-block;\n",
       "  content: '►';\n",
       "  font-size: 11px;\n",
       "  width: 15px;\n",
       "  text-align: center;\n",
       "}\n",
       "\n",
       ".xr-section-summary-in:disabled + label:before {\n",
       "  color: var(--xr-disabled-color);\n",
       "}\n",
       "\n",
       ".xr-section-summary-in:checked + label:before {\n",
       "  content: '▼';\n",
       "}\n",
       "\n",
       ".xr-section-summary-in:checked + label > span {\n",
       "  display: none;\n",
       "}\n",
       "\n",
       ".xr-section-summary,\n",
       ".xr-section-inline-details {\n",
       "  padding-top: 4px;\n",
       "  padding-bottom: 4px;\n",
       "}\n",
       "\n",
       ".xr-section-inline-details {\n",
       "  grid-column: 2 / -1;\n",
       "}\n",
       "\n",
       ".xr-section-details {\n",
       "  display: none;\n",
       "  grid-column: 1 / -1;\n",
       "  margin-bottom: 5px;\n",
       "}\n",
       "\n",
       ".xr-section-summary-in:checked ~ .xr-section-details {\n",
       "  display: contents;\n",
       "}\n",
       "\n",
       ".xr-array-wrap {\n",
       "  grid-column: 1 / -1;\n",
       "  display: grid;\n",
       "  grid-template-columns: 20px auto;\n",
       "}\n",
       "\n",
       ".xr-array-wrap > label {\n",
       "  grid-column: 1;\n",
       "  vertical-align: top;\n",
       "}\n",
       "\n",
       ".xr-preview {\n",
       "  color: var(--xr-font-color3);\n",
       "}\n",
       "\n",
       ".xr-array-preview,\n",
       ".xr-array-data {\n",
       "  padding: 0 5px !important;\n",
       "  grid-column: 2;\n",
       "}\n",
       "\n",
       ".xr-array-data,\n",
       ".xr-array-in:checked ~ .xr-array-preview {\n",
       "  display: none;\n",
       "}\n",
       "\n",
       ".xr-array-in:checked ~ .xr-array-data,\n",
       ".xr-array-preview {\n",
       "  display: inline-block;\n",
       "}\n",
       "\n",
       ".xr-dim-list {\n",
       "  display: inline-block !important;\n",
       "  list-style: none;\n",
       "  padding: 0 !important;\n",
       "  margin: 0;\n",
       "}\n",
       "\n",
       ".xr-dim-list li {\n",
       "  display: inline-block;\n",
       "  padding: 0;\n",
       "  margin: 0;\n",
       "}\n",
       "\n",
       ".xr-dim-list:before {\n",
       "  content: '(';\n",
       "}\n",
       "\n",
       ".xr-dim-list:after {\n",
       "  content: ')';\n",
       "}\n",
       "\n",
       ".xr-dim-list li:not(:last-child):after {\n",
       "  content: ',';\n",
       "  padding-right: 5px;\n",
       "}\n",
       "\n",
       ".xr-has-index {\n",
       "  font-weight: bold;\n",
       "}\n",
       "\n",
       ".xr-var-list,\n",
       ".xr-var-item {\n",
       "  display: contents;\n",
       "}\n",
       "\n",
       ".xr-var-item > div,\n",
       ".xr-var-item label,\n",
       ".xr-var-item > .xr-var-name span {\n",
       "  background-color: var(--xr-background-color-row-even);\n",
       "  margin-bottom: 0;\n",
       "}\n",
       "\n",
       ".xr-var-item > .xr-var-name:hover span {\n",
       "  padding-right: 5px;\n",
       "}\n",
       "\n",
       ".xr-var-list > li:nth-child(odd) > div,\n",
       ".xr-var-list > li:nth-child(odd) > label,\n",
       ".xr-var-list > li:nth-child(odd) > .xr-var-name span {\n",
       "  background-color: var(--xr-background-color-row-odd);\n",
       "}\n",
       "\n",
       ".xr-var-name {\n",
       "  grid-column: 1;\n",
       "}\n",
       "\n",
       ".xr-var-dims {\n",
       "  grid-column: 2;\n",
       "}\n",
       "\n",
       ".xr-var-dtype {\n",
       "  grid-column: 3;\n",
       "  text-align: right;\n",
       "  color: var(--xr-font-color2);\n",
       "}\n",
       "\n",
       ".xr-var-preview {\n",
       "  grid-column: 4;\n",
       "}\n",
       "\n",
       ".xr-var-name,\n",
       ".xr-var-dims,\n",
       ".xr-var-dtype,\n",
       ".xr-preview,\n",
       ".xr-attrs dt {\n",
       "  white-space: nowrap;\n",
       "  overflow: hidden;\n",
       "  text-overflow: ellipsis;\n",
       "  padding-right: 10px;\n",
       "}\n",
       "\n",
       ".xr-var-name:hover,\n",
       ".xr-var-dims:hover,\n",
       ".xr-var-dtype:hover,\n",
       ".xr-attrs dt:hover {\n",
       "  overflow: visible;\n",
       "  width: auto;\n",
       "  z-index: 1;\n",
       "}\n",
       "\n",
       ".xr-var-attrs,\n",
       ".xr-var-data {\n",
       "  display: none;\n",
       "  background-color: var(--xr-background-color) !important;\n",
       "  padding-bottom: 5px !important;\n",
       "}\n",
       "\n",
       ".xr-var-attrs-in:checked ~ .xr-var-attrs,\n",
       ".xr-var-data-in:checked ~ .xr-var-data {\n",
       "  display: block;\n",
       "}\n",
       "\n",
       ".xr-var-data > table {\n",
       "  float: right;\n",
       "}\n",
       "\n",
       ".xr-var-name span,\n",
       ".xr-var-data,\n",
       ".xr-attrs {\n",
       "  padding-left: 25px !important;\n",
       "}\n",
       "\n",
       ".xr-attrs,\n",
       ".xr-var-attrs,\n",
       ".xr-var-data {\n",
       "  grid-column: 1 / -1;\n",
       "}\n",
       "\n",
       "dl.xr-attrs {\n",
       "  padding: 0;\n",
       "  margin: 0;\n",
       "  display: grid;\n",
       "  grid-template-columns: 125px auto;\n",
       "}\n",
       "\n",
       ".xr-attrs dt,\n",
       ".xr-attrs dd {\n",
       "  padding: 0;\n",
       "  margin: 0;\n",
       "  float: left;\n",
       "  padding-right: 10px;\n",
       "  width: auto;\n",
       "}\n",
       "\n",
       ".xr-attrs dt {\n",
       "  font-weight: normal;\n",
       "  grid-column: 1;\n",
       "}\n",
       "\n",
       ".xr-attrs dt:hover span {\n",
       "  display: inline-block;\n",
       "  background: var(--xr-background-color);\n",
       "  padding-right: 10px;\n",
       "}\n",
       "\n",
       ".xr-attrs dd {\n",
       "  grid-column: 2;\n",
       "  white-space: pre-wrap;\n",
       "  word-break: break-all;\n",
       "}\n",
       "\n",
       ".xr-icon-database,\n",
       ".xr-icon-file-text2 {\n",
       "  display: inline-block;\n",
       "  vertical-align: middle;\n",
       "  width: 1em;\n",
       "  height: 1.5em !important;\n",
       "  stroke-width: 0;\n",
       "  stroke: currentColor;\n",
       "  fill: currentColor;\n",
       "}\n",
       "</style><pre class='xr-text-repr-fallback'>&lt;xarray.Dataset&gt;\n",
       "Dimensions:  (lat: 9, lon: 11, time: 8)\n",
       "Coordinates:\n",
       "  * lat      (lat) float64 47.22 48.16 49.09 50.03 50.96 51.9 52.83 53.77 54.7\n",
       "  * lon      (lon) float64 5.625 6.562 7.5 8.438 ... 12.19 13.12 14.06 15.0\n",
       "  * time     (time) float64 5.863e+04 5.863e+04 ... 5.863e+04 5.863e+04\n",
       "Data variables:\n",
       "    ps       (time, lat, lon) float32 9.817e+04 9.523e+04 ... 1.018e+05\n",
       "    tas      (time, lat, lon) float32 293.7 291.3 289.6 ... 293.5 293.2 292.6</pre><div class='xr-wrap' hidden><div class='xr-header'><div class='xr-obj-type'>xarray.Dataset</div></div><ul class='xr-sections'><li class='xr-section-item'><input id='section-8d7724b2-59a9-4af9-ace7-78c498c2f9f1' class='xr-section-summary-in' type='checkbox' disabled ><label for='section-8d7724b2-59a9-4af9-ace7-78c498c2f9f1' class='xr-section-summary'  title='Expand/collapse section'>Dimensions:</label><div class='xr-section-inline-details'><ul class='xr-dim-list'><li><span class='xr-has-index'>lat</span>: 9</li><li><span class='xr-has-index'>lon</span>: 11</li><li><span class='xr-has-index'>time</span>: 8</li></ul></div><div class='xr-section-details'></div></li><li class='xr-section-item'><input id='section-78e0c67f-837d-4c2b-b3a5-b0662f8c3d86' class='xr-section-summary-in' type='checkbox'  checked><label for='section-78e0c67f-837d-4c2b-b3a5-b0662f8c3d86' class='xr-section-summary' >Coordinates: <span>(3)</span></label><div class='xr-section-inline-details'></div><div class='xr-section-details'><ul class='xr-var-list'><li class='xr-var-item'><div class='xr-var-name'><span class='xr-has-index'>lat</span></div><div class='xr-var-dims'>(lat)</div><div class='xr-var-dtype'>float64</div><div class='xr-var-preview xr-preview'>47.22 48.16 49.09 ... 53.77 54.7</div><input id='attrs-0beef17a-2559-4e90-8fda-f31b23a2d53d' class='xr-var-attrs-in' type='checkbox' disabled><label for='attrs-0beef17a-2559-4e90-8fda-f31b23a2d53d' title='Show/Hide attributes'><svg class='icon xr-icon-file-text2'><use xlink:href='#icon-file-text2'></use></svg></label><input id='data-0e02ffdc-6a35-435b-8ac9-f5654a11f03c' class='xr-var-data-in' type='checkbox'><label for='data-0e02ffdc-6a35-435b-8ac9-f5654a11f03c' title='Show/Hide data repr'><svg class='icon xr-icon-database'><use xlink:href='#icon-database'></use></svg></label><div class='xr-var-attrs'><dl class='xr-attrs'></dl></div><div class='xr-var-data'><pre>array([47.22057 , 48.155628, 49.090686, 50.025743, 50.960801, 51.895857,\n",
       "       52.830914, 53.76597 , 54.701026])</pre></div></li><li class='xr-var-item'><div class='xr-var-name'><span class='xr-has-index'>lon</span></div><div class='xr-var-dims'>(lon)</div><div class='xr-var-dtype'>float64</div><div class='xr-var-preview xr-preview'>5.625 6.562 7.5 ... 14.06 15.0</div><input id='attrs-a5533e31-e61a-4b52-8214-8368ab577544' class='xr-var-attrs-in' type='checkbox' disabled><label for='attrs-a5533e31-e61a-4b52-8214-8368ab577544' title='Show/Hide attributes'><svg class='icon xr-icon-file-text2'><use xlink:href='#icon-file-text2'></use></svg></label><input id='data-5710950e-a692-4fb5-baf1-287ef2529de4' class='xr-var-data-in' type='checkbox'><label for='data-5710950e-a692-4fb5-baf1-287ef2529de4' title='Show/Hide data repr'><svg class='icon xr-icon-database'><use xlink:href='#icon-database'></use></svg></label><div class='xr-var-attrs'><dl class='xr-attrs'></dl></div><div class='xr-var-data'><pre>array([ 5.625 ,  6.5625,  7.5   ,  8.4375,  9.375 , 10.3125, 11.25  , 12.1875,\n",
       "       13.125 , 14.0625, 15.    ])</pre></div></li><li class='xr-var-item'><div class='xr-var-name'><span class='xr-has-index'>time</span></div><div class='xr-var-dims'>(time)</div><div class='xr-var-dtype'>float64</div><div class='xr-var-preview xr-preview'>5.863e+04 5.863e+04 ... 5.863e+04</div><input id='attrs-150cdb55-8205-428d-8ee4-485282cb5cc7' class='xr-var-attrs-in' type='checkbox' disabled><label for='attrs-150cdb55-8205-428d-8ee4-485282cb5cc7' title='Show/Hide attributes'><svg class='icon xr-icon-file-text2'><use xlink:href='#icon-file-text2'></use></svg></label><input id='data-ee504ae4-297a-4677-b016-f1fa803201d6' class='xr-var-data-in' type='checkbox'><label for='data-ee504ae4-297a-4677-b016-f1fa803201d6' title='Show/Hide data repr'><svg class='icon xr-icon-database'><use xlink:href='#icon-database'></use></svg></label><div class='xr-var-attrs'><dl class='xr-attrs'></dl></div><div class='xr-var-data'><pre>array([58631.   , 58631.125, 58631.25 , 58631.375, 58631.5  , 58631.625,\n",
       "       58631.75 , 58631.875])</pre></div></li></ul></div></li><li class='xr-section-item'><input id='section-29c029a0-2ca7-4f0e-a79b-f503a5006f71' class='xr-section-summary-in' type='checkbox'  checked><label for='section-29c029a0-2ca7-4f0e-a79b-f503a5006f71' class='xr-section-summary' >Data variables: <span>(2)</span></label><div class='xr-section-inline-details'></div><div class='xr-section-details'><ul class='xr-var-list'><li class='xr-var-item'><div class='xr-var-name'><span>ps</span></div><div class='xr-var-dims'>(time, lat, lon)</div><div class='xr-var-dtype'>float32</div><div class='xr-var-preview xr-preview'>9.817e+04 9.523e+04 ... 1.018e+05</div><input id='attrs-e8af84a6-e5d7-4f50-822b-bab99a803310' class='xr-var-attrs-in' type='checkbox' disabled><label for='attrs-e8af84a6-e5d7-4f50-822b-bab99a803310' title='Show/Hide attributes'><svg class='icon xr-icon-file-text2'><use xlink:href='#icon-file-text2'></use></svg></label><input id='data-69b16ec0-c0aa-40b7-86df-d3e949d3e184' class='xr-var-data-in' type='checkbox'><label for='data-69b16ec0-c0aa-40b7-86df-d3e949d3e184' title='Show/Hide data repr'><svg class='icon xr-icon-database'><use xlink:href='#icon-database'></use></svg></label><div class='xr-var-attrs'><dl class='xr-attrs'></dl></div><div class='xr-var-data'><pre>array([[[ 98166.  ,  95231.  , ...,  89262.  ,  92270.  ],\n",
       "        [ 97929.  ,  97706.  , ...,  93507.  ,  94712.  ],\n",
       "        ...,\n",
       "        [102141.  , 102334.  , ..., 102160.  , 102006.  ],\n",
       "        [101790.  , 101949.  , ..., 102556.  , 102525.  ]],\n",
       "\n",
       "       [[ 98125.64,  95166.64, ...,  89196.64,  92221.64],\n",
       "        [ 97879.64,  97627.64, ...,  93438.64,  94664.64],\n",
       "        ...,\n",
       "        [101930.64, 102146.64, ..., 102105.64, 101962.64],\n",
       "        [101571.64, 101764.64, ..., 102511.64, 102491.64]],\n",
       "\n",
       "       ...,\n",
       "\n",
       "       [[ 98152.89,  95139.89, ...,  88984.89,  91954.89],\n",
       "        [ 97915.89,  97580.89, ...,  93183.89,  94363.89],\n",
       "        ...,\n",
       "        [101622.89, 101748.89, ..., 101399.89, 101335.89],\n",
       "        [101011.89, 101129.89, ..., 101863.89, 101917.89]],\n",
       "\n",
       "       [[ 98227.84,  95182.84, ...,  89007.84,  91987.84],\n",
       "        [ 97996.84,  97653.84, ...,  93197.84,  94393.84],\n",
       "        ...,\n",
       "        [101598.84, 101782.84, ..., 101253.84, 101214.84],\n",
       "        [100990.84, 101178.84, ..., 101673.84, 101751.84]]], dtype=float32)</pre></div></li><li class='xr-var-item'><div class='xr-var-name'><span>tas</span></div><div class='xr-var-dims'>(time, lat, lon)</div><div class='xr-var-dtype'>float32</div><div class='xr-var-preview xr-preview'>293.7 291.3 289.6 ... 293.2 292.6</div><input id='attrs-ea4e8670-515f-42bb-abaa-9dacdecd2ff8' class='xr-var-attrs-in' type='checkbox' disabled><label for='attrs-ea4e8670-515f-42bb-abaa-9dacdecd2ff8' title='Show/Hide attributes'><svg class='icon xr-icon-file-text2'><use xlink:href='#icon-file-text2'></use></svg></label><input id='data-f67e9ebc-c1a1-4659-8547-bdbaacaa5c1b' class='xr-var-data-in' type='checkbox'><label for='data-f67e9ebc-c1a1-4659-8547-bdbaacaa5c1b' title='Show/Hide data repr'><svg class='icon xr-icon-database'><use xlink:href='#icon-database'></use></svg></label><div class='xr-var-attrs'><dl class='xr-attrs'></dl></div><div class='xr-var-data'><pre>array([[[293.66876, 291.29767, ..., 286.29767, 289.33087],\n",
       "        [293.1844 , 292.59064, ..., 287.83868, 289.6043 ],\n",
       "        ...,\n",
       "        [292.22345, 292.51642, ..., 285.36993, 285.29767],\n",
       "        [290.52423, 290.8797 , ..., 290.0125 , 290.04572]],\n",
       "\n",
       "       [[292.2708 , 290.4427 , ..., 284.9095 , 288.06183],\n",
       "        [292.28058, 291.14972, ..., 286.4759 , 288.09308],\n",
       "        ...,\n",
       "        [292.36652, 292.5091 , ..., 284.4173 , 284.097  ],\n",
       "        [290.48175, 290.7962 , ..., 289.55402, 289.5052 ]],\n",
       "\n",
       "       ...,\n",
       "\n",
       "       [[297.774  , 296.82867, ..., 294.77008, 297.62164],\n",
       "        [296.815  , 297.92633, ..., 296.82477, 298.83063],\n",
       "        ...,\n",
       "        [291.13336, 292.14313, ..., 297.54547, 297.04742],\n",
       "        [289.24274, 290.40485, ..., 293.16266, 292.79352]],\n",
       "\n",
       "       [[293.77094, 293.10883, ..., 290.39594, 292.38617],\n",
       "        [294.06976, 294.62836, ..., 292.43304, 293.56976],\n",
       "        ...,\n",
       "        [291.4936 , 291.57367, ..., 295.88812, 295.03656],\n",
       "        [289.50726, 289.69086, ..., 293.16742, 292.60297]]], dtype=float32)</pre></div></li></ul></div></li><li class='xr-section-item'><input id='section-5e6db72c-9dfd-41b1-99a0-c81ea29f8773' class='xr-section-summary-in' type='checkbox' disabled ><label for='section-5e6db72c-9dfd-41b1-99a0-c81ea29f8773' class='xr-section-summary'  title='Expand/collapse section'>Attributes: <span>(0)</span></label><div class='xr-section-inline-details'></div><div class='xr-section-details'><dl class='xr-attrs'></dl></div></li></ul></div></div>"
      ],
      "text/plain": [
       "<xarray.Dataset>\n",
       "Dimensions:  (lat: 9, lon: 11, time: 8)\n",
       "Coordinates:\n",
       "  * lat      (lat) float64 47.22 48.16 49.09 50.03 50.96 51.9 52.83 53.77 54.7\n",
       "  * lon      (lon) float64 5.625 6.562 7.5 8.438 ... 12.19 13.12 14.06 15.0\n",
       "  * time     (time) float64 5.863e+04 5.863e+04 ... 5.863e+04 5.863e+04\n",
       "Data variables:\n",
       "    ps       (time, lat, lon) float32 9.817e+04 9.523e+04 ... 1.018e+05\n",
       "    tas      (time, lat, lon) float32 293.7 291.3 289.6 ... 293.5 293.2 292.6"
      ]
     },
     "execution_count": 10,
     "metadata": {},
     "output_type": "execute_result"
    }
   ],
   "source": [
    "ds1"
   ]
  },
  {
   "cell_type": "markdown",
   "id": "4404e875-189c-4c82-bfcc-642b27317042",
   "metadata": {
    "tags": []
   },
   "source": [
    "<span style=\"color:red\">**This unstandardised file has no metadata describing the data. <br>It remains unclear what the variables pr and tas are representing and what units they have.**</span>"
   ]
  },
  {
   "cell_type": "markdown",
   "id": "659944bb-ca02-4cc0-9f1d-7800fa8238a0",
   "metadata": {
    "tags": []
   },
   "source": [
    "####  Step 3.3: Plot the first time step of variable tas"
   ]
  },
  {
   "cell_type": "code",
   "execution_count": 11,
   "id": "a5fea5f6-fae6-4ea4-98b2-28bfc4ff84e3",
   "metadata": {
    "tags": []
   },
   "outputs": [
    {
     "data": {
      "text/plain": [
       "<matplotlib.collections.QuadMesh at 0x1620f5610>"
      ]
     },
     "execution_count": 11,
     "metadata": {},
     "output_type": "execute_result"
    },
    {
     "data": {
      "image/png": "[encoded data removed]",
      "text/plain": [
       "<Figure size 432x288 with 2 Axes>"
      ]
     },
     "metadata": {
      "needs_background": "light"
     },
     "output_type": "display_data"
    }
   ],
   "source": [
    "ds1.tas.isel(time=1).plot()"
   ]
  },
  {
   "cell_type": "markdown",
   "id": "971f1257-7d29-4e0f-9708-5b894bf73e83",
   "metadata": {
    "tags": []
   },
   "source": [
    "<span style=\"color:red\">**--> Without metadata, the plotting routine cannot correctly label the plot .**</span>\n"
   ]
  },
  {
   "cell_type": "markdown",
   "id": "c5fe981e-b3b8-45ca-a75b-82effce3739b",
   "metadata": {
    "tags": []
   },
   "source": [
    "####  Step 3.4: Read a CMIP6 file that is standardised according to the ATMODAT Standard (same data as file1 but with rich metadata)"
   ]
  },
  {
   "cell_type": "code",
   "execution_count": 12,
   "id": "ea706ce4-6cdd-46bc-bb81-806decfaff60",
   "metadata": {
    "tags": []
   },
   "outputs": [],
   "source": [
    "ifile2 = 'demo_data/ALL_ATMODAT_ATTRIBUTES.nc'\n",
    "ds2    = xr.open_dataset(ifile2)"
   ]
  },
  {
   "cell_type": "markdown",
   "id": "915751dd-42f8-40da-a8c2-52014bcfabac",
   "metadata": {
    "tags": []
   },
   "source": [
    "##### Have a look at the file content\n",
    "* Click on the file icon next to the database icon to view the attributes of the individual coordinate and data variables. \n",
    "* click on the $\\nabla$ Attributes to look at the 30 global attributes."
   ]
  },
  {
   "cell_type": "code",
   "execution_count": 13,
   "id": "0e1498fa-9190-44ac-a29c-4b3e09aa5336",
   "metadata": {
    "tags": []
   },
   "outputs": [
    {
     "data": {
      "text/html": [
       "<div><svg style=\"position: absolute; width: 0; height: 0; overflow: hidden\">\n",
       "<defs>\n",
       "<symbol id=\"icon-database\" viewBox=\"0 0 32 32\">\n",
       "<path d=\"M16 0c-8.837 0-16 2.239-16 5v4c0 2.761 7.163 5 16 5s16-2.239 16-5v-4c0-2.761-7.163-5-16-5z\"></path>\n",
       "<path d=\"M16 17c-8.837 0-16-2.239-16-5v6c0 2.761 7.163 5 16 5s16-2.239 16-5v-6c0 2.761-7.163 5-16 5z\"></path>\n",
       "<path d=\"M16 26c-8.837 0-16-2.239-16-5v6c0 2.761 7.163 5 16 5s16-2.239 16-5v-6c0 2.761-7.163 5-16 5z\"></path>\n",
       "</symbol>\n",
       "<symbol id=\"icon-file-text2\" viewBox=\"0 0 32 32\">\n",
       "<path d=\"M28.681 7.159c-0.694-0.947-1.662-2.053-2.724-3.116s-2.169-2.030-3.116-2.724c-1.612-1.182-2.393-1.319-2.841-1.319h-15.5c-1.378 0-2.5 1.121-2.5 2.5v27c0 1.378 1.122 2.5 2.5 2.5h23c1.378 0 2.5-1.122 2.5-2.5v-19.5c0-0.448-0.137-1.23-1.319-2.841zM24.543 5.457c0.959 0.959 1.712 1.825 2.268 2.543h-4.811v-4.811c0.718 0.556 1.584 1.309 2.543 2.268zM28 29.5c0 0.271-0.229 0.5-0.5 0.5h-23c-0.271 0-0.5-0.229-0.5-0.5v-27c0-0.271 0.229-0.5 0.5-0.5 0 0 15.499-0 15.5 0v7c0 0.552 0.448 1 1 1h7v19.5z\"></path>\n",
       "<path d=\"M23 26h-14c-0.552 0-1-0.448-1-1s0.448-1 1-1h14c0.552 0 1 0.448 1 1s-0.448 1-1 1z\"></path>\n",
       "<path d=\"M23 22h-14c-0.552 0-1-0.448-1-1s0.448-1 1-1h14c0.552 0 1 0.448 1 1s-0.448 1-1 1z\"></path>\n",
       "<path d=\"M23 18h-14c-0.552 0-1-0.448-1-1s0.448-1 1-1h14c0.552 0 1 0.448 1 1s-0.448 1-1 1z\"></path>\n",
       "</symbol>\n",
       "</defs>\n",
       "</svg>\n",
       "<style>/* CSS stylesheet for displaying xarray objects in jupyterlab.\n",
       " *\n",
       " */\n",
       "\n",
       ":root {\n",
       "  --xr-font-color0: var(--jp-content-font-color0, rgba(0, 0, 0, 1));\n",
       "  --xr-font-color2: var(--jp-content-font-color2, rgba(0, 0, 0, 0.54));\n",
       "  --xr-font-color3: var(--jp-content-font-color3, rgba(0, 0, 0, 0.38));\n",
       "  --xr-border-color: var(--jp-border-color2, #e0e0e0);\n",
       "  --xr-disabled-color: var(--jp-layout-color3, #bdbdbd);\n",
       "  --xr-background-color: var(--jp-layout-color0, white);\n",
       "  --xr-background-color-row-even: var(--jp-layout-color1, white);\n",
       "  --xr-background-color-row-odd: var(--jp-layout-color2, #eeeeee);\n",
       "}\n",
       "\n",
       "html[theme=dark],\n",
       "body.vscode-dark {\n",
       "  --xr-font-color0: rgba(255, 255, 255, 1);\n",
       "  --xr-font-color2: rgba(255, 255, 255, 0.54);\n",
       "  --xr-font-color3: rgba(255, 255, 255, 0.38);\n",
       "  --xr-border-color: #1F1F1F;\n",
       "  --xr-disabled-color: #515151;\n",
       "  --xr-background-color: #111111;\n",
       "  --xr-background-color-row-even: #111111;\n",
       "  --xr-background-color-row-odd: #313131;\n",
       "}\n",
       "\n",
       ".xr-wrap {\n",
       "  display: block;\n",
       "  min-width: 300px;\n",
       "  max-width: 700px;\n",
       "}\n",
       "\n",
       ".xr-text-repr-fallback {\n",
       "  /* fallback to plain text repr when CSS is not injected (untrusted notebook) */\n",
       "  display: none;\n",
       "}\n",
       "\n",
       ".xr-header {\n",
       "  padding-top: 6px;\n",
       "  padding-bottom: 6px;\n",
       "  margin-bottom: 4px;\n",
       "  border-bottom: solid 1px var(--xr-border-color);\n",
       "}\n",
       "\n",
       ".xr-header > div,\n",
       ".xr-header > ul {\n",
       "  display: inline;\n",
       "  margin-top: 0;\n",
       "  margin-bottom: 0;\n",
       "}\n",
       "\n",
       ".xr-obj-type,\n",
       ".xr-array-name {\n",
       "  margin-left: 2px;\n",
       "  margin-right: 10px;\n",
       "}\n",
       "\n",
       ".xr-obj-type {\n",
       "  color: var(--xr-font-color2);\n",
       "}\n",
       "\n",
       ".xr-sections {\n",
       "  padding-left: 0 !important;\n",
       "  display: grid;\n",
       "  grid-template-columns: 150px auto auto 1fr 20px 20px;\n",
       "}\n",
       "\n",
       ".xr-section-item {\n",
       "  display: contents;\n",
       "}\n",
       "\n",
       ".xr-section-item input {\n",
       "  display: none;\n",
       "}\n",
       "\n",
       ".xr-section-item input + label {\n",
       "  color: var(--xr-disabled-color);\n",
       "}\n",
       "\n",
       ".xr-section-item input:enabled + label {\n",
       "  cursor: pointer;\n",
       "  color: var(--xr-font-color2);\n",
       "}\n",
       "\n",
       ".xr-section-item input:enabled + label:hover {\n",
       "  color: var(--xr-font-color0);\n",
       "}\n",
       "\n",
       ".xr-section-summary {\n",
       "  grid-column: 1;\n",
       "  color: var(--xr-font-color2);\n",
       "  font-weight: 500;\n",
       "}\n",
       "\n",
       ".xr-section-summary > span {\n",
       "  display: inline-block;\n",
       "  padding-left: 0.5em;\n",
       "}\n",
       "\n",
       ".xr-section-summary-in:disabled + label {\n",
       "  color: var(--xr-font-color2);\n",
       "}\n",
       "\n",
       ".xr-section-summary-in + label:before {\n",
       "  display: inline-block;\n",
       "  content: '►';\n",
       "  font-size: 11px;\n",
       "  width: 15px;\n",
       "  text-align: center;\n",
       "}\n",
       "\n",
       ".xr-section-summary-in:disabled + label:before {\n",
       "  color: var(--xr-disabled-color);\n",
       "}\n",
       "\n",
       ".xr-section-summary-in:checked + label:before {\n",
       "  content: '▼';\n",
       "}\n",
       "\n",
       ".xr-section-summary-in:checked + label > span {\n",
       "  display: none;\n",
       "}\n",
       "\n",
       ".xr-section-summary,\n",
       ".xr-section-inline-details {\n",
       "  padding-top: 4px;\n",
       "  padding-bottom: 4px;\n",
       "}\n",
       "\n",
       ".xr-section-inline-details {\n",
       "  grid-column: 2 / -1;\n",
       "}\n",
       "\n",
       ".xr-section-details {\n",
       "  display: none;\n",
       "  grid-column: 1 / -1;\n",
       "  margin-bottom: 5px;\n",
       "}\n",
       "\n",
       ".xr-section-summary-in:checked ~ .xr-section-details {\n",
       "  display: contents;\n",
       "}\n",
       "\n",
       ".xr-array-wrap {\n",
       "  grid-column: 1 / -1;\n",
       "  display: grid;\n",
       "  grid-template-columns: 20px auto;\n",
       "}\n",
       "\n",
       ".xr-array-wrap > label {\n",
       "  grid-column: 1;\n",
       "  vertical-align: top;\n",
       "}\n",
       "\n",
       ".xr-preview {\n",
       "  color: var(--xr-font-color3);\n",
       "}\n",
       "\n",
       ".xr-array-preview,\n",
       ".xr-array-data {\n",
       "  padding: 0 5px !important;\n",
       "  grid-column: 2;\n",
       "}\n",
       "\n",
       ".xr-array-data,\n",
       ".xr-array-in:checked ~ .xr-array-preview {\n",
       "  display: none;\n",
       "}\n",
       "\n",
       ".xr-array-in:checked ~ .xr-array-data,\n",
       ".xr-array-preview {\n",
       "  display: inline-block;\n",
       "}\n",
       "\n",
       ".xr-dim-list {\n",
       "  display: inline-block !important;\n",
       "  list-style: none;\n",
       "  padding: 0 !important;\n",
       "  margin: 0;\n",
       "}\n",
       "\n",
       ".xr-dim-list li {\n",
       "  display: inline-block;\n",
       "  padding: 0;\n",
       "  margin: 0;\n",
       "}\n",
       "\n",
       ".xr-dim-list:before {\n",
       "  content: '(';\n",
       "}\n",
       "\n",
       ".xr-dim-list:after {\n",
       "  content: ')';\n",
       "}\n",
       "\n",
       ".xr-dim-list li:not(:last-child):after {\n",
       "  content: ',';\n",
       "  padding-right: 5px;\n",
       "}\n",
       "\n",
       ".xr-has-index {\n",
       "  font-weight: bold;\n",
       "}\n",
       "\n",
       ".xr-var-list,\n",
       ".xr-var-item {\n",
       "  display: contents;\n",
       "}\n",
       "\n",
       ".xr-var-item > div,\n",
       ".xr-var-item label,\n",
       ".xr-var-item > .xr-var-name span {\n",
       "  background-color: var(--xr-background-color-row-even);\n",
       "  margin-bottom: 0;\n",
       "}\n",
       "\n",
       ".xr-var-item > .xr-var-name:hover span {\n",
       "  padding-right: 5px;\n",
       "}\n",
       "\n",
       ".xr-var-list > li:nth-child(odd) > div,\n",
       ".xr-var-list > li:nth-child(odd) > label,\n",
       ".xr-var-list > li:nth-child(odd) > .xr-var-name span {\n",
       "  background-color: var(--xr-background-color-row-odd);\n",
       "}\n",
       "\n",
       ".xr-var-name {\n",
       "  grid-column: 1;\n",
       "}\n",
       "\n",
       ".xr-var-dims {\n",
       "  grid-column: 2;\n",
       "}\n",
       "\n",
       ".xr-var-dtype {\n",
       "  grid-column: 3;\n",
       "  text-align: right;\n",
       "  color: var(--xr-font-color2);\n",
       "}\n",
       "\n",
       ".xr-var-preview {\n",
       "  grid-column: 4;\n",
       "}\n",
       "\n",
       ".xr-var-name,\n",
       ".xr-var-dims,\n",
       ".xr-var-dtype,\n",
       ".xr-preview,\n",
       ".xr-attrs dt {\n",
       "  white-space: nowrap;\n",
       "  overflow: hidden;\n",
       "  text-overflow: ellipsis;\n",
       "  padding-right: 10px;\n",
       "}\n",
       "\n",
       ".xr-var-name:hover,\n",
       ".xr-var-dims:hover,\n",
       ".xr-var-dtype:hover,\n",
       ".xr-attrs dt:hover {\n",
       "  overflow: visible;\n",
       "  width: auto;\n",
       "  z-index: 1;\n",
       "}\n",
       "\n",
       ".xr-var-attrs,\n",
       ".xr-var-data {\n",
       "  display: none;\n",
       "  background-color: var(--xr-background-color) !important;\n",
       "  padding-bottom: 5px !important;\n",
       "}\n",
       "\n",
       ".xr-var-attrs-in:checked ~ .xr-var-attrs,\n",
       ".xr-var-data-in:checked ~ .xr-var-data {\n",
       "  display: block;\n",
       "}\n",
       "\n",
       ".xr-var-data > table {\n",
       "  float: right;\n",
       "}\n",
       "\n",
       ".xr-var-name span,\n",
       ".xr-var-data,\n",
       ".xr-attrs {\n",
       "  padding-left: 25px !important;\n",
       "}\n",
       "\n",
       ".xr-attrs,\n",
       ".xr-var-attrs,\n",
       ".xr-var-data {\n",
       "  grid-column: 1 / -1;\n",
       "}\n",
       "\n",
       "dl.xr-attrs {\n",
       "  padding: 0;\n",
       "  margin: 0;\n",
       "  display: grid;\n",
       "  grid-template-columns: 125px auto;\n",
       "}\n",
       "\n",
       ".xr-attrs dt,\n",
       ".xr-attrs dd {\n",
       "  padding: 0;\n",
       "  margin: 0;\n",
       "  float: left;\n",
       "  padding-right: 10px;\n",
       "  width: auto;\n",
       "}\n",
       "\n",
       ".xr-attrs dt {\n",
       "  font-weight: normal;\n",
       "  grid-column: 1;\n",
       "}\n",
       "\n",
       ".xr-attrs dt:hover span {\n",
       "  display: inline-block;\n",
       "  background: var(--xr-background-color);\n",
       "  padding-right: 10px;\n",
       "}\n",
       "\n",
       ".xr-attrs dd {\n",
       "  grid-column: 2;\n",
       "  white-space: pre-wrap;\n",
       "  word-break: break-all;\n",
       "}\n",
       "\n",
       ".xr-icon-database,\n",
       ".xr-icon-file-text2 {\n",
       "  display: inline-block;\n",
       "  vertical-align: middle;\n",
       "  width: 1em;\n",
       "  height: 1.5em !important;\n",
       "  stroke-width: 0;\n",
       "  stroke: currentColor;\n",
       "  fill: currentColor;\n",
       "}\n",
       "</style><pre class='xr-text-repr-fallback'>&lt;xarray.Dataset&gt;\n",
       "Dimensions:  (lat: 9, lon: 11, time: 8)\n",
       "Coordinates:\n",
       "  * lat      (lat) float64 47.22 48.16 49.09 50.03 50.96 51.9 52.83 53.77 54.7\n",
       "  * lon      (lon) float64 5.625 6.562 7.5 8.438 ... 12.19 13.12 14.06 15.0\n",
       "  * time     (time) datetime64[ns] 2010-07-12 ... 2010-07-12T21:00:00\n",
       "Data variables:\n",
       "    ps       (time, lat, lon) float32 9.817e+04 9.523e+04 ... 1.018e+05\n",
       "    tas      (time, lat, lon) float32 293.7 291.3 289.6 ... 293.5 293.2 292.6\n",
       "Attributes: (12/30)\n",
       "    source:                          MPI-ESM1.2-HR (2017): \\naerosol: none, p...\n",
       "    institution:                     Max Planck Institute for Meteorology\n",
       "    contact:                         cmip6-mpi-esm@dkrz.de\n",
       "    creation_date:                   2019-08-25T09:49:09Z\n",
       "    frequency:                       3hrPt\n",
       "    further_info_url:                https://furtherinfo.es-doc.org/CMIP6.MPI...\n",
       "    ...                              ...\n",
       "    keywords_vocabulary:             GCMD\n",
       "    metadata_link:                   https://cera-www.dkrz.de/WDCC/ui/cerasea...\n",
       "    processing_level:                not applicable; data are model data\n",
       "    program:                         CMIP6\n",
       "    project:                         CMIP6\n",
       "    Conventions:                     CF-1.8 ATMODAT-3.0</pre><div class='xr-wrap' hidden><div class='xr-header'><div class='xr-obj-type'>xarray.Dataset</div></div><ul class='xr-sections'><li class='xr-section-item'><input id='section-edf66fad-67f5-43ff-90c6-0994e964027c' class='xr-section-summary-in' type='checkbox' disabled ><label for='section-edf66fad-67f5-43ff-90c6-0994e964027c' class='xr-section-summary'  title='Expand/collapse section'>Dimensions:</label><div class='xr-section-inline-details'><ul class='xr-dim-list'><li><span class='xr-has-index'>lat</span>: 9</li><li><span class='xr-has-index'>lon</span>: 11</li><li><span class='xr-has-index'>time</span>: 8</li></ul></div><div class='xr-section-details'></div></li><li class='xr-section-item'><input id='section-8cd568ae-dd2b-447e-a1a1-9a62b40e2642' class='xr-section-summary-in' type='checkbox'  checked><label for='section-8cd568ae-dd2b-447e-a1a1-9a62b40e2642' class='xr-section-summary' >Coordinates: <span>(3)</span></label><div class='xr-section-inline-details'></div><div class='xr-section-details'><ul class='xr-var-list'><li class='xr-var-item'><div class='xr-var-name'><span class='xr-has-index'>lat</span></div><div class='xr-var-dims'>(lat)</div><div class='xr-var-dtype'>float64</div><div class='xr-var-preview xr-preview'>47.22 48.16 49.09 ... 53.77 54.7</div><input id='attrs-ccc44892-83df-4af4-9c77-48aec81b2711' class='xr-var-attrs-in' type='checkbox' ><label for='attrs-ccc44892-83df-4af4-9c77-48aec81b2711' title='Show/Hide attributes'><svg class='icon xr-icon-file-text2'><use xlink:href='#icon-file-text2'></use></svg></label><input id='data-7b00f54f-5a2e-4b96-8c2a-8facd99f0a90' class='xr-var-data-in' type='checkbox'><label for='data-7b00f54f-5a2e-4b96-8c2a-8facd99f0a90' title='Show/Hide data repr'><svg class='icon xr-icon-database'><use xlink:href='#icon-database'></use></svg></label><div class='xr-var-attrs'><dl class='xr-attrs'><dt><span>standard_name :</span></dt><dd>latitude</dd><dt><span>long_name :</span></dt><dd>Latitude</dd><dt><span>units :</span></dt><dd>degrees_north</dd></dl></div><div class='xr-var-data'><pre>array([47.22057 , 48.155628, 49.090686, 50.025743, 50.960801, 51.895857,\n",
       "       52.830914, 53.76597 , 54.701026])</pre></div></li><li class='xr-var-item'><div class='xr-var-name'><span class='xr-has-index'>lon</span></div><div class='xr-var-dims'>(lon)</div><div class='xr-var-dtype'>float64</div><div class='xr-var-preview xr-preview'>5.625 6.562 7.5 ... 14.06 15.0</div><input id='attrs-db211002-705a-4d11-8e87-2d5a2c83ee24' class='xr-var-attrs-in' type='checkbox' ><label for='attrs-db211002-705a-4d11-8e87-2d5a2c83ee24' title='Show/Hide attributes'><svg class='icon xr-icon-file-text2'><use xlink:href='#icon-file-text2'></use></svg></label><input id='data-6c747faf-5c94-480c-930c-f1ed4852f052' class='xr-var-data-in' type='checkbox'><label for='data-6c747faf-5c94-480c-930c-f1ed4852f052' title='Show/Hide data repr'><svg class='icon xr-icon-database'><use xlink:href='#icon-database'></use></svg></label><div class='xr-var-attrs'><dl class='xr-attrs'><dt><span>standard_name :</span></dt><dd>longitude</dd><dt><span>long_name :</span></dt><dd>Longitude</dd><dt><span>units :</span></dt><dd>degrees_east</dd></dl></div><div class='xr-var-data'><pre>array([ 5.625 ,  6.5625,  7.5   ,  8.4375,  9.375 , 10.3125, 11.25  , 12.1875,\n",
       "       13.125 , 14.0625, 15.    ])</pre></div></li><li class='xr-var-item'><div class='xr-var-name'><span class='xr-has-index'>time</span></div><div class='xr-var-dims'>(time)</div><div class='xr-var-dtype'>datetime64[ns]</div><div class='xr-var-preview xr-preview'>2010-07-12 ... 2010-07-12T21:00:00</div><input id='attrs-3096ab4d-74ed-42bb-830e-7a0ec04cdb66' class='xr-var-attrs-in' type='checkbox' ><label for='attrs-3096ab4d-74ed-42bb-830e-7a0ec04cdb66' title='Show/Hide attributes'><svg class='icon xr-icon-file-text2'><use xlink:href='#icon-file-text2'></use></svg></label><input id='data-eb767527-7b57-40ab-bc5f-3ebfe9bd0e77' class='xr-var-data-in' type='checkbox'><label for='data-eb767527-7b57-40ab-bc5f-3ebfe9bd0e77' title='Show/Hide data repr'><svg class='icon xr-icon-database'><use xlink:href='#icon-database'></use></svg></label><div class='xr-var-attrs'><dl class='xr-attrs'><dt><span>standard_name :</span></dt><dd>time</dd><dt><span>long_name :</span></dt><dd>time</dd></dl></div><div class='xr-var-data'><pre>array([&#x27;2010-07-12T00:00:00.000000000&#x27;, &#x27;2010-07-12T03:00:00.000000000&#x27;,\n",
       "       &#x27;2010-07-12T06:00:00.000000000&#x27;, &#x27;2010-07-12T09:00:00.000000000&#x27;,\n",
       "       &#x27;2010-07-12T12:00:00.000000000&#x27;, &#x27;2010-07-12T15:00:00.000000000&#x27;,\n",
       "       &#x27;2010-07-12T18:00:00.000000000&#x27;, &#x27;2010-07-12T21:00:00.000000000&#x27;],\n",
       "      dtype=&#x27;datetime64[ns]&#x27;)</pre></div></li></ul></div></li><li class='xr-section-item'><input id='section-d481d352-d2ae-4c55-9737-ce7e7de03e1d' class='xr-section-summary-in' type='checkbox'  checked><label for='section-d481d352-d2ae-4c55-9737-ce7e7de03e1d' class='xr-section-summary' >Data variables: <span>(2)</span></label><div class='xr-section-inline-details'></div><div class='xr-section-details'><ul class='xr-var-list'><li class='xr-var-item'><div class='xr-var-name'><span>ps</span></div><div class='xr-var-dims'>(time, lat, lon)</div><div class='xr-var-dtype'>float32</div><div class='xr-var-preview xr-preview'>...</div><input id='attrs-0e3711e6-08d0-4100-8590-970f5e117558' class='xr-var-attrs-in' type='checkbox' ><label for='attrs-0e3711e6-08d0-4100-8590-970f5e117558' title='Show/Hide attributes'><svg class='icon xr-icon-file-text2'><use xlink:href='#icon-file-text2'></use></svg></label><input id='data-27de8312-57ea-4130-96e7-300a46c7644f' class='xr-var-data-in' type='checkbox'><label for='data-27de8312-57ea-4130-96e7-300a46c7644f' title='Show/Hide data repr'><svg class='icon xr-icon-database'><use xlink:href='#icon-database'></use></svg></label><div class='xr-var-attrs'><dl class='xr-attrs'><dt><span>standard_name :</span></dt><dd>surface_air_pressure</dd><dt><span>long_name :</span></dt><dd>Surface Air Pressure</dd><dt><span>units :</span></dt><dd>Pa</dd></dl></div><div class='xr-var-data'><pre>array([[[ 98166.  ,  95231.  , ...,  89262.  ,  92270.  ],\n",
       "        [ 97929.  ,  97706.  , ...,  93507.  ,  94712.  ],\n",
       "        ...,\n",
       "        [102141.  , 102334.  , ..., 102160.  , 102006.  ],\n",
       "        [101790.  , 101949.  , ..., 102556.  , 102525.  ]],\n",
       "\n",
       "       [[ 98125.64,  95166.64, ...,  89196.64,  92221.64],\n",
       "        [ 97879.64,  97627.64, ...,  93438.64,  94664.64],\n",
       "        ...,\n",
       "        [101930.64, 102146.64, ..., 102105.64, 101962.64],\n",
       "        [101571.64, 101764.64, ..., 102511.64, 102491.64]],\n",
       "\n",
       "       ...,\n",
       "\n",
       "       [[ 98152.89,  95139.89, ...,  88984.89,  91954.89],\n",
       "        [ 97915.89,  97580.89, ...,  93183.89,  94363.89],\n",
       "        ...,\n",
       "        [101622.89, 101748.89, ..., 101399.89, 101335.89],\n",
       "        [101011.89, 101129.89, ..., 101863.89, 101917.89]],\n",
       "\n",
       "       [[ 98227.84,  95182.84, ...,  89007.84,  91987.84],\n",
       "        [ 97996.84,  97653.84, ...,  93197.84,  94393.84],\n",
       "        ...,\n",
       "        [101598.84, 101782.84, ..., 101253.84, 101214.84],\n",
       "        [100990.84, 101178.84, ..., 101673.84, 101751.84]]], dtype=float32)</pre></div></li><li class='xr-var-item'><div class='xr-var-name'><span>tas</span></div><div class='xr-var-dims'>(time, lat, lon)</div><div class='xr-var-dtype'>float32</div><div class='xr-var-preview xr-preview'>...</div><input id='attrs-81b6db8d-fed0-4e5f-bcaf-4fd3a82c9cc1' class='xr-var-attrs-in' type='checkbox' ><label for='attrs-81b6db8d-fed0-4e5f-bcaf-4fd3a82c9cc1' title='Show/Hide attributes'><svg class='icon xr-icon-file-text2'><use xlink:href='#icon-file-text2'></use></svg></label><input id='data-68d1c09d-7969-4cfb-aa2d-1c16ec8461f9' class='xr-var-data-in' type='checkbox'><label for='data-68d1c09d-7969-4cfb-aa2d-1c16ec8461f9' title='Show/Hide data repr'><svg class='icon xr-icon-database'><use xlink:href='#icon-database'></use></svg></label><div class='xr-var-attrs'><dl class='xr-attrs'><dt><span>standard_name :</span></dt><dd>air_temperature</dd><dt><span>long_name :</span></dt><dd>Near-Surface Air Temperature</dd><dt><span>units :</span></dt><dd>K</dd></dl></div><div class='xr-var-data'><pre>array([[[293.66876, 291.29767, ..., 286.29767, 289.33087],\n",
       "        [293.1844 , 292.59064, ..., 287.83868, 289.6043 ],\n",
       "        ...,\n",
       "        [292.22345, 292.51642, ..., 285.36993, 285.29767],\n",
       "        [290.52423, 290.8797 , ..., 290.0125 , 290.04572]],\n",
       "\n",
       "       [[292.2708 , 290.4427 , ..., 284.9095 , 288.06183],\n",
       "        [292.28058, 291.14972, ..., 286.4759 , 288.09308],\n",
       "        ...,\n",
       "        [292.36652, 292.5091 , ..., 284.4173 , 284.097  ],\n",
       "        [290.48175, 290.7962 , ..., 289.55402, 289.5052 ]],\n",
       "\n",
       "       ...,\n",
       "\n",
       "       [[297.774  , 296.82867, ..., 294.77008, 297.62164],\n",
       "        [296.815  , 297.92633, ..., 296.82477, 298.83063],\n",
       "        ...,\n",
       "        [291.13336, 292.14313, ..., 297.54547, 297.04742],\n",
       "        [289.24274, 290.40485, ..., 293.16266, 292.79352]],\n",
       "\n",
       "       [[293.77094, 293.10883, ..., 290.39594, 292.38617],\n",
       "        [294.06976, 294.62836, ..., 292.43304, 293.56976],\n",
       "        ...,\n",
       "        [291.4936 , 291.57367, ..., 295.88812, 295.03656],\n",
       "        [289.50726, 289.69086, ..., 293.16742, 292.60297]]], dtype=float32)</pre></div></li></ul></div></li><li class='xr-section-item'><input id='section-445b0c87-4323-4107-a7a5-ec549a4286c2' class='xr-section-summary-in' type='checkbox'  ><label for='section-445b0c87-4323-4107-a7a5-ec549a4286c2' class='xr-section-summary' >Attributes: <span>(30)</span></label><div class='xr-section-inline-details'></div><div class='xr-section-details'><dl class='xr-attrs'><dt><span>source :</span></dt><dd>MPI-ESM1.2-HR (2017): \n",
       "aerosol: none, prescribed MACv2-SP\n",
       "atmos: ECHAM6.3 (spectral T127; 384 x 192 longitude/latitude; 95 levels; top level 0.01 hPa)\n",
       "atmosChem: none\n",
       "land: JSBACH3.20\n",
       "landIce: none/prescribed\n",
       "ocean: MPIOM1.63 (tripolar TP04, approximately 0.4deg; 802 x 404 longitude/latitude; 40 levels; top grid cell 0-12 m)\n",
       "ocnBgchem: HAMOCC6\n",
       "seaIce: unnamed (thermodynamic (Semtner zero-layer) dynamic (Hibler 79) sea ice model)</dd><dt><span>institution :</span></dt><dd>Max Planck Institute for Meteorology</dd><dt><span>contact :</span></dt><dd>cmip6-mpi-esm@dkrz.de</dd><dt><span>creation_date :</span></dt><dd>2019-08-25T09:49:09Z</dd><dt><span>frequency :</span></dt><dd>3hrPt</dd><dt><span>further_info_url :</span></dt><dd>https://furtherinfo.es-doc.org/CMIP6.MPI-M.MPI-ESM1-2-HR.historical.none.r6i1p1f1</dd><dt><span>history :</span></dt><dd>Thu Aug 26 16:56:42 2021: cdo -s merge ps_CMIP6_MPI-ESM1-2-HR_hist_r6i1p1f1_Germany_2010-07-12.nc tas_CMIP6_MPI-ESM1-2-HR_hist_r6i1p1f1_Germany_2010-07-12.nc CMIP6_ATTRIBUTES.nc\n",
       "Thu Aug 26 16:55:56 2021: cdo seldate,2010-07-12 -sellonlatbox,5,15,47,55 ps_3hr_MPI-ESM1-2-HR_historical_r6i1p1f1_gn_201001010300-201501010000.nc ps_CMIP6_MPI-ESM1-2-HR_hist_r6i1p1f1_Germany_2010-07-12.nc\n",
       "2019-08-25T09:49:09Z ; CMOR rewrote data to be consistent with CMIP6, CF-1.7 CMIP-6.2 and CF standards.</dd><dt><span>institution_id :</span></dt><dd>MPI-M</dd><dt><span>nominal_resolution :</span></dt><dd>100 km</dd><dt><span>realm :</span></dt><dd>atmos</dd><dt><span>references :</span></dt><dd>MPI-ESM: Mauritsen, T. et al. (2019), Developments in the MPI‐M Earth System Model version 1.2 (MPI‐ESM1.2) and Its Response to Increasing CO2, J. Adv. Model. Earth Syst.,11, 998-1038, doi:10.1029/2018MS001400,\n",
       "Mueller, W.A. et al. (2018): A high‐resolution version of the Max Planck Institute Earth System Model MPI‐ESM1.2‐HR. J. Adv. Model. EarthSyst.,10,1383–1413, doi:10.1029/2017MS001217</dd><dt><span>source_type :</span></dt><dd>AOGCM</dd><dt><span>title :</span></dt><dd>MPI-ESM1-2-HR output prepared for CMIP6</dd><dt><span>license :</span></dt><dd>CMIP6 model data produced by MPI-M is licensed under a Creative Commons Attribution ShareAlike 4.0 International License (https://creativecommons.org/licenses). Consult https://pcmdi.llnl.gov/CMIP6/TermsOfUse for terms of use governing CMIP6 output, including citation requirements and proper acknowledgment. Further information about this data, including some limitations, can be found via the further_info_url (recorded as a global attribute in this file) and. The data producers and data providers make no warranty, either express or implied, including, but not limited to, warranties of merchantability and fitness for a particular purpose. All liabilities arising from the supply of the information (including any liability arising in negligence) are excluded to the fullest extent permitted by law.</dd><dt><span>creator :</span></dt><dd>Jungclaus, Johann, https://orcid.org/0000-0002-3849-4339 et al.</dd><dt><span>crs :</span></dt><dd>WGS84 (T127 gaussian grid)</dd><dt><span>geospatial_lat_resolution :</span></dt><dd>approx. 0.94 deg</dd><dt><span>geospatial_lon_resolution :</span></dt><dd>0.9375 deg</dd><dt><span>geospatial_vertical_resolution :</span></dt><dd>point</dd><dt><span>keywords :</span></dt><dd>CMIP, COUPLED CLIMATE MODELS</dd><dt><span>standard_name_vocabulary :</span></dt><dd>CF Standard Name Table v77</dd><dt><span>summary :</span></dt><dd>These data have been generated as part of the internationally-coordinated Coupled Model Intercomparison Project Phase 6 (CMIP6; see also GMD Special Issue: http://www.geosci-model-dev.net/special_issue590.html). The data contained in this file represents MPI-M MPI-ESM1.2-HR model output prepared for CMIP6 CMIP historical.</dd><dt><span>comment :</span></dt><dd>This file has been prepared for the EMS21 user workshop https://meetingorganizer.copernicus.org/EMS2021/session/41771. The user workshop focusses on netCDF metadata.</dd><dt><span>featureType :</span></dt><dd>timeSeries</dd><dt><span>keywords_vocabulary :</span></dt><dd>GCMD</dd><dt><span>metadata_link :</span></dt><dd>https://cera-www.dkrz.de/WDCC/ui/cerasearch/cmip6?input=CMIP6.CMIP.MPI-M.MPI-ESM1-2-HR</dd><dt><span>processing_level :</span></dt><dd>not applicable; data are model data</dd><dt><span>program :</span></dt><dd>CMIP6</dd><dt><span>project :</span></dt><dd>CMIP6</dd><dt><span>Conventions :</span></dt><dd>CF-1.8 ATMODAT-3.0</dd></dl></div></li></ul></div></div>"
      ],
      "text/plain": [
       "<xarray.Dataset>\n",
       "Dimensions:  (lat: 9, lon: 11, time: 8)\n",
       "Coordinates:\n",
       "  * lat      (lat) float64 47.22 48.16 49.09 50.03 50.96 51.9 52.83 53.77 54.7\n",
       "  * lon      (lon) float64 5.625 6.562 7.5 8.438 ... 12.19 13.12 14.06 15.0\n",
       "  * time     (time) datetime64[ns] 2010-07-12 ... 2010-07-12T21:00:00\n",
       "Data variables:\n",
       "    ps       (time, lat, lon) float32 ...\n",
       "    tas      (time, lat, lon) float32 ...\n",
       "Attributes: (12/30)\n",
       "    source:                          MPI-ESM1.2-HR (2017): \\naerosol: none, p...\n",
       "    institution:                     Max Planck Institute for Meteorology\n",
       "    contact:                         cmip6-mpi-esm@dkrz.de\n",
       "    creation_date:                   2019-08-25T09:49:09Z\n",
       "    frequency:                       3hrPt\n",
       "    further_info_url:                https://furtherinfo.es-doc.org/CMIP6.MPI...\n",
       "    ...                              ...\n",
       "    keywords_vocabulary:             GCMD\n",
       "    metadata_link:                   https://cera-www.dkrz.de/WDCC/ui/cerasea...\n",
       "    processing_level:                not applicable; data are model data\n",
       "    program:                         CMIP6\n",
       "    project:                         CMIP6\n",
       "    Conventions:                     CF-1.8 ATMODAT-3.0"
      ]
     },
     "execution_count": 13,
     "metadata": {},
     "output_type": "execute_result"
    }
   ],
   "source": [
    "ds2"
   ]
  },
  {
   "cell_type": "markdown",
   "id": "58714fed-ba0f-40c3-b0ff-3f434f4d89fb",
   "metadata": {
    "tags": []
   },
   "source": [
    "####  Step 3.5: Plot first time step of variable tas"
   ]
  },
  {
   "cell_type": "code",
   "execution_count": 36,
   "id": "6d1505fb-7a1f-4a88-9e69-d687c61cab00",
   "metadata": {
    "tags": []
   },
   "outputs": [
    {
     "data": {
      "text/plain": [
       "<matplotlib.collections.QuadMesh at 0x162368340>"
      ]
     },
     "execution_count": 36,
     "metadata": {},
     "output_type": "execute_result"
    },
    {
     "data": {
      "image/png": "[encoded data removed]",
      "text/plain": [
       "<Figure size 432x288 with 2 Axes>"
      ]
     },
     "metadata": {
      "needs_background": "light"
     },
     "output_type": "display_data"
    }
   ],
   "source": [
    "ds2.tas.isel(time=1).plot()"
   ]
  },
  {
   "cell_type": "markdown",
   "id": "50a0dc15-e454-4181-b9fe-c8ced1b1381d",
   "metadata": {
    "tags": []
   },
   "source": [
    "<span style=\"color:red\">**--> With metadata, the plotting routine automatically labels the plot with units .**</span>"
   ]
  },
  {
   "cell_type": "markdown",
   "id": "e52511b9-47a7-4736-b69c-8d0286c0348e",
   "metadata": {},
   "source": [
    "## Step 4: Evaluate the netCDF files with the atmodat checker\n",
    "*Notes* <br>\n",
    "* Run the atmodat checker using the command `run_checks.py` from BASH terminal.\n",
    "* Please note that the atmodat checker contains two modules:\n",
    "    * one that checks the global attributes for compliance with the ATMODAT standard, \n",
    "    * and another that performs a standard CF check (building upon the cfchecks library)."
   ]
  },
  {
   "cell_type": "markdown",
   "id": "3d6ef645-3ff1-4d14-b8a7-287d4617c153",
   "metadata": {},
   "source": [
    "#### Step 4.1: Show usage instructions of the `run_checks.py`"
   ]
  },
  {
   "cell_type": "code",
   "execution_count": 15,
   "id": "8e7622c3-5914-4a54-82b8-22eeda482069",
   "metadata": {},
   "outputs": [
    {
     "name": "stdout",
     "output_type": "stream",
     "text": [
      "usage: run_checks.py [-h] [-v] [-op OPATH] [-cfv CFVERSION]\n",
      "                     [-check WHATCHECKS] [-s] [-f FILE | -p PATH]\n",
      "\n",
      "Run the AtMoDat checks suits.\n",
      "\n",
      "optional arguments:\n",
      "  -h, --help            show this help message and exit\n",
      "  -v, --verbose         Print output of checkers (longer runtime due to double\n",
      "                        call of checkers)\n",
      "  -op OPATH, --opath OPATH\n",
      "                        Define custom path where checker output shall be\n",
      "                        written\n",
      "  -cfv CFVERSION, --cfversion CFVERSION\n",
      "                        Define custom CF table version against which the file\n",
      "                        shall be checked. Valid are versions from 1.3 to 1.8.\n",
      "                        Example: \"-cfv 1.6\". Default is 'auto'\n",
      "  -check WHATCHECKS, --whatchecks WHATCHECKS\n",
      "                        Define if AtMoDat or CF check or both shall be\n",
      "                        executed. Valid options: AT, CF, both. Example:\n",
      "                        \"-check CF\". Default is 'both'\n",
      "  -s, --summary         Create summary of checker output\n",
      "  -f FILE, --file FILE  Processes the given file\n",
      "  -p PATH, --path PATH  Processes all files in a given directory\n"
     ]
    }
   ],
   "source": [
    "%%bash\n",
    "run_checks.py --help"
   ]
  },
  {
   "cell_type": "markdown",
   "id": "6822c46f-7505-426c-ad7a-c41ad96f504f",
   "metadata": {
    "tags": []
   },
   "source": [
    "#### Step 4.2: Check the file ALL_ATMODAT_ATTRIBUTES.nc and write checker output to output directory *myoutputdir*\n",
    "*Notes* <br>\n",
    "* Without specifying a user-defined output directory (-op flag), the atmodat checker would write the checker output into  ../checker_ouput/YYYYMMDD_HHMM\n",
    "* We use the -s option to create summary checker output (files: short_summary.txt and long_summary_*.csv)"
   ]
  },
  {
   "cell_type": "code",
   "execution_count": 127,
   "id": "e73f4069-d89b-468a-9c23-9a24241e5286",
   "metadata": {
    "tags": []
   },
   "outputs": [
    {
     "name": "stdout",
     "output_type": "stream",
     "text": [
      "2021-09-05 16:09:41.974204 [INFO] :: PYESSV :: Loading vocabularies from /Users/angelika/Checker/atmodat_data_checker/AtMoDat_CVs/pyessv-archive:\n",
      "2021-09-05 16:09:41.980479 [INFO] :: PYESSV :: ... loaded: atmodat\n",
      "--- 1.3286 seconds for checking 1 files---\n"
     ]
    },
    {
     "name": "stderr",
     "output_type": "stream",
     "text": [
      "Running Compliance Checker on the datasets from: ['demo_data/ALL_ATMODAT_ATTRIBUTES.nc']\n"
     ]
    }
   ],
   "source": [
    "%%bash\n",
    "run_checks.py -s -f demo_data/ALL_ATMODAT_ATTRIBUTES.nc -op myoutputdir"
   ]
  },
  {
   "cell_type": "markdown",
   "id": "14ab3e40-801f-41ec-b1f5-6e3f13e5dc9a",
   "metadata": {},
   "source": [
    "#### Step 4.3: Check content of the checker output directory myoutputdir"
   ]
  },
  {
   "cell_type": "markdown",
   "id": "5d8dacbc-2a49-4904-b4d0-565bd3c3bacf",
   "metadata": {},
   "source": [
    "##### Step 4.3.1: List folders and subfolders"
   ]
  },
  {
   "cell_type": "code",
   "execution_count": 141,
   "id": "208c5402-09d7-4b79-83cc-d377652744c9",
   "metadata": {},
   "outputs": [
    {
     "name": "stdout",
     "output_type": "stream",
     "text": [
      "total 32\n",
      "drwxr-xr-x  3 staff   96  5 Sep 18:09 CF\n",
      "drwxr-xr-x  3 staff   96  5 Sep 18:09 atmodat\n",
      "-rw-r--r--  1 staff   49  5 Sep 18:09 long_summary_mandatory.csv\n",
      "-rw-r--r--  1 staff   49  5 Sep 18:09 long_summary_optional.csv\n",
      "-rw-r--r--  1 staff   49  5 Sep 18:09 long_summary_recommended.csv\n",
      "-rw-r--r--  1 staff  332  5 Sep 18:09 short_summary.txt\n",
      "\n",
      "=====  atmodat subdirectory with detailed checker output ====\n",
      "total 32\n",
      "-rw-r--r--  1 staff  13562  5 Sep 18:09 ALL_ATMODAT_ATTRIBUTES_atmodat_result.json\n",
      "\n",
      "======  CF subdirectory with detailed checker output ====\n",
      "total 8\n",
      "-rw-r--r--  1 staff  693  5 Sep 18:09 ALL_ATMODAT_ATTRIBUTES_cfchecks_result.txt\n"
     ]
    }
   ],
   "source": [
    "%%bash\n",
    "ls -g myoutputdir\n",
    "echo $'\\n=====  atmodat subdirectory with detailed checker output ===='\n",
    "#echo '\\n =====  atmodat subdirectory with detailed checker output ===='\n",
    "ls -g myoutputdir/atmodat\n",
    "echo $'\\n======  CF subdirectory with detailed checker output ===='\n",
    "ls -g myoutputdir/CF"
   ]
  },
  {
   "cell_type": "markdown",
   "id": "d4f6de7a-cfff-4891-9aef-fd97876d59f2",
   "metadata": {},
   "source": [
    "##### Step 4.3.2: Show content of short_summary.txt that provides summary statistics on the atmodat checker and CF checker results  "
   ]
  },
  {
   "cell_type": "code",
   "execution_count": 143,
   "id": "771d7588-0d2e-4952-a146-2beeca166470",
   "metadata": {},
   "outputs": [
    {
     "name": "stdout",
     "output_type": "stream",
     "text": [
      "Short summary of checks: \n",
      " \n",
      "Checking against: atmodat_standard:3.0, CF table version: 77\n",
      "Version of the AtMoDat checker: 1.1.0\n",
      "Checked at: 2021-09-05T18:09:42.725622\n",
      " \n",
      "Number of checked files: 1\n",
      "Total checks passed: 31/31\n",
      "Mandatory checks passed: 4/4\n",
      "Recommended checks passed: 18/18\n",
      "Optional checks passed: 9/9\n",
      "CF checker errors: 0"
     ]
    }
   ],
   "source": [
    "%%bash\n",
    "cat myoutputdir/short_summary.txt"
   ]
  },
  {
   "cell_type": "markdown",
   "id": "a1fdedbd-9721-419f-b295-a1d280e58e26",
   "metadata": {},
   "source": [
    "##### Step 4.3.2: Show content of long_summary_recommended.csv"
   ]
  },
  {
   "cell_type": "code",
   "execution_count": 145,
   "id": "372d61d4-b65a-4299-bb29-0c84ba4f52c2",
   "metadata": {},
   "outputs": [
    {
     "name": "stdout",
     "output_type": "stream",
     "text": [
      "File,Check level,Global Attribute,Error Message\n"
     ]
    }
   ],
   "source": [
    "%%bash\n",
    "cat myoutputdir/long_summary_recommended.csv"
   ]
  },
  {
   "cell_type": "markdown",
   "id": "6bf1042f-7d0a-4951-a952-167ab0dc9a8e",
   "metadata": {},
   "source": [
    "<span style=\"color:red\">**--> File contains all recommended metadata, so the long_summary has no entry except of the header .**</span>"
   ]
  },
  {
   "cell_type": "markdown",
   "id": "ed302618-2cab-40b4-9770-e8f8e0a8beb3",
   "metadata": {},
   "source": [
    "##### Step 4.3.3: Show content of the output file that contains the check against the ATMODAT Standard (machine readible JSON file)"
   ]
  },
  {
   "cell_type": "code",
   "execution_count": 147,
   "id": "6a2b5e89-e64d-43c2-9885-e89258a13740",
   "metadata": {},
   "outputs": [
    {
     "name": "stdout",
     "output_type": "stream",
     "text": [
      "{\n",
      "  \"demo_data/ALL_ATMODAT_ATTRIBUTES.nc\": {\n",
      "    \"atmodat_standard:3.0\": {\n",
      "      \"scored_points\": 110,\n",
      "      \"possible_points\": 110,\n",
      "      \"high_count\": 0,\n",
      "      \"medium_count\": 0,\n",
      "      \"low_count\": 0,\n",
      "      \"high_priorities\": [\n",
      "        {\n",
      "          \"name\": \"ATMODAT version number in valid range\",\n",
      "          \"weight\": 3,\n",
      "          \"value\": [\n",
      "            3,\n",
      "            3\n",
      "          ],\n",
      "          \"msgs\": [],\n",
      "          \"children\": []\n",
      "        },\n",
      "        {\n",
      "          \"name\": \"CF version number in valid range\",\n",
      "          \"weight\": 3,\n",
      "          \"value\": [\n",
      "            3,\n",
      "            3\n",
      "          ],\n",
      "          \"msgs\": [],\n",
      "          \"children\": []\n",
      "        },\n",
      "        {\n",
      "          \"name\": \"Global attribute: Conventions\",\n",
      "          \"weight\": 3,\n",
      "          \"value\": [\n",
      "            4,\n",
      "            4\n",
      "          ],\n",
      "          \"msgs\": [],\n",
      "          \"children\": []\n",
      "        },\n",
      "        {\n",
      "          \"name\": \"Global attribute: institution\",\n",
      "          \"weight\": 3,\n",
      "          \"value\": [\n",
      "            4,\n",
      "            4\n",
      "          ],\n",
      "          \"msgs\": [],\n",
      "          \"children\": []\n",
      "        }\n",
      "      ],\n",
      "      \"medium_priorities\": [\n",
      "        {\n",
      "          \"name\": \"Global attribute: contact\",\n",
      "          \"weight\": 2,\n",
      "          \"value\": [\n",
      "            4,\n",
      "            4\n",
      "          ],\n",
      "          \"msgs\": [],\n",
      "          \"children\": []\n"
     ]
    }
   ],
   "source": [
    "%%bash\n",
    "head -60  myoutputdir/atmodat/ALL_ATMODAT_ATTRIBUTES_atmodat_result.json"
   ]
  },
  {
   "cell_type": "markdown",
   "id": "bffa7100-80be-4d81-a59c-99562ede405b",
   "metadata": {},
   "source": [
    "#### Step 4.3.4: Show content of the output file that contains the check against the CF Standard\n",
    "The output formatting is preset by the cfchecks routine"
   ]
  },
  {
   "cell_type": "code",
   "execution_count": 148,
   "id": "3965c73a-995a-444f-9044-7b5042bde2f3",
   "metadata": {},
   "outputs": [
    {
     "name": "stdout",
     "output_type": "stream",
     "text": [
      "CHECKING NetCDF FILE: demo_data/ALL_ATMODAT_ATTRIBUTES.nc\n",
      "=====================\n",
      "Using CF Checker Version 4.1.0\n",
      "Checking against CF Version CF-1.8\n",
      "Using Standard Name Table Version 77 (2021-01-19T13:38:50Z)\n",
      "Using Area Type Table Version 10 (23 June 2020)\n",
      "Using Standardized Region Name Table Version 4 (18 December 2018)\n",
      "\n",
      "\n",
      "------------------\n",
      "Checking variable: lat\n",
      "------------------\n",
      "\n",
      "------------------\n",
      "Checking variable: lon\n",
      "------------------\n",
      "\n",
      "------------------\n",
      "Checking variable: ps\n",
      "------------------\n",
      "\n",
      "------------------\n",
      "Checking variable: tas\n",
      "------------------\n",
      "\n",
      "------------------\n",
      "Checking variable: time\n",
      "------------------\n",
      "\n",
      "ERRORS detected: 0\n",
      "WARNINGS given: 0\n",
      "INFORMATION messages: 0\n"
     ]
    }
   ],
   "source": [
    "%%bash\n",
    "cat myoutputdir/CF/ALL_ATMODAT_ATTRIBUTES_cfchecks_result.txt"
   ]
  },
  {
   "cell_type": "markdown",
   "id": "c75a6816-39d5-440e-9a58-e67f61487108",
   "metadata": {},
   "source": [
    "#### Step 4.3: Check all files contained in directory demo_data and write checker output to output directory *myoutputdir2*\n",
    "*Notes* <br>\n",
    "* Let the checker run over all files contained in the entire directory demo_data (-p flag).\n",
    "* Write checker output to output directory *myoutputdir2* (-op flag).\n",
    "* We use the -s option to create summary checker output (files: short_summary.txt and long_summary_*.csv)"
   ]
  },
  {
   "cell_type": "code",
   "execution_count": 151,
   "id": "79507ac6-35f5-4fca-bdf8-0aae1bccfe72",
   "metadata": {},
   "outputs": [
    {
     "name": "stdout",
     "output_type": "stream",
     "text": [
      "2021-09-05 17:20:31.971813 [INFO] :: PYESSV :: Loading vocabularies from /Users/angelika/Checker/atmodat_data_checker/AtMoDat_CVs/pyessv-archive:\n",
      "2021-09-05 17:20:32.004392 [INFO] :: PYESSV :: ... loaded: atmodat\n",
      "2021-09-05 17:20:33.981522 [INFO] :: PYESSV :: Loading vocabularies from /Users/angelika/Checker/atmodat_data_checker/AtMoDat_CVs/pyessv-archive:\n",
      "2021-09-05 17:20:33.988536 [INFO] :: PYESSV :: ... loaded: atmodat\n",
      "2021-09-05 17:20:35.413978 [INFO] :: PYESSV :: Loading vocabularies from /Users/angelika/Checker/atmodat_data_checker/AtMoDat_CVs/pyessv-archive:\n",
      "2021-09-05 17:20:35.421006 [INFO] :: PYESSV :: ... loaded: atmodat\n",
      "2021-09-05 17:20:36.843643 [INFO] :: PYESSV :: Loading vocabularies from /Users/angelika/Checker/atmodat_data_checker/AtMoDat_CVs/pyessv-archive:\n",
      "2021-09-05 17:20:36.850002 [INFO] :: PYESSV :: ... loaded: atmodat\n",
      "2021-09-05 17:20:38.297479 [INFO] :: PYESSV :: Loading vocabularies from /Users/angelika/Checker/atmodat_data_checker/AtMoDat_CVs/pyessv-archive:\n",
      "2021-09-05 17:20:38.304234 [INFO] :: PYESSV :: ... loaded: atmodat\n",
      "--- 8.3454 seconds for checking 5 files---\n"
     ]
    },
    {
     "name": "stderr",
     "output_type": "stream",
     "text": [
      "Running Compliance Checker on the datasets from: ['demo_data/WRONG_STANDARDNAME.nc']\n",
      "Running Compliance Checker on the datasets from: ['demo_data/CMIP6_ATTRIBUTES.nc']\n",
      "Running Compliance Checker on the datasets from: ['demo_data/NO_ATTRIBUTES.nc']\n",
      "Running Compliance Checker on the datasets from: ['demo_data/MINUM_ATMODAT_ATTRIBUTES.nc']\n",
      "Running Compliance Checker on the datasets from: ['demo_data/ALL_ATMODAT_ATTRIBUTES.nc']\n"
     ]
    }
   ],
   "source": [
    "%%bash\n",
    "run_checks.py -s -p demo_data/ -op myoutputdir2"
   ]
  },
  {
   "cell_type": "markdown",
   "id": "88a568fb-1c2e-4188-b07f-137394545ce8",
   "metadata": {},
   "source": [
    "#### Step 4.4: Check content of the checker output directory myoutputdir2"
   ]
  },
  {
   "cell_type": "markdown",
   "id": "ee3669a6-29d8-4a07-8744-c4a56d2e3a9e",
   "metadata": {},
   "source": [
    "##### Step 4.4.1: List folders and subfolders"
   ]
  },
  {
   "cell_type": "code",
   "execution_count": 152,
   "id": "4114ad8c-fe2e-4c7c-b547-2914cd94e67f",
   "metadata": {},
   "outputs": [
    {
     "name": "stdout",
     "output_type": "stream",
     "text": [
      "total 40\n",
      "drwxr-xr-x  7 staff   224  5 Sep 19:20 CF\n",
      "drwxr-xr-x  7 staff   224  5 Sep 19:20 atmodat\n",
      "-rw-r--r--  1 staff   287  5 Sep 19:20 long_summary_mandatory.csv\n",
      "-rw-r--r--  1 staff  2672  5 Sep 19:20 long_summary_optional.csv\n",
      "-rw-r--r--  1 staff  5099  5 Sep 19:20 long_summary_recommended.csv\n",
      "-rw-r--r--  1 staff   337  5 Sep 19:20 short_summary.txt\n",
      "\n",
      "=====  atmodat subdirectory with detailed checker output ====\n",
      "total 184\n",
      "-rw-r--r--  1 staff  13562  5 Sep 19:20 ALL_ATMODAT_ATTRIBUTES_atmodat_result.json\n",
      "-rw-r--r--  1 staff  15931  5 Sep 19:20 CMIP6_ATTRIBUTES_atmodat_result.json\n",
      "-rw-r--r--  1 staff  17472  5 Sep 19:20 MINUM_ATMODAT_ATTRIBUTES_atmodat_result.json\n",
      "-rw-r--r--  1 staff  16891  5 Sep 19:20 NO_ATTRIBUTES_atmodat_result.json\n",
      "-rw-r--r--  1 staff  17460  5 Sep 19:20 WRONG_STANDARDNAME_atmodat_result.json\n",
      "\n",
      "======  CF subdirectory with detailed checker output ====\n",
      "total 40\n",
      "-rw-r--r--  1 staff   693  5 Sep 19:20 ALL_ATMODAT_ATTRIBUTES_cfchecks_result.txt\n",
      "-rw-r--r--  1 staff  1006  5 Sep 19:20 CMIP6_ATTRIBUTES_cfchecks_result.txt\n",
      "-rw-r--r--  1 staff   695  5 Sep 19:20 MINUM_ATMODAT_ATTRIBUTES_cfchecks_result.txt\n",
      "-rw-r--r--  1 staff  1484  5 Sep 19:20 NO_ATTRIBUTES_cfchecks_result.txt\n",
      "-rw-r--r--  1 staff   829  5 Sep 19:20 WRONG_STANDARDNAME_cfchecks_result.txt\n"
     ]
    }
   ],
   "source": [
    "%%bash\n",
    "ls -g myoutputdir2\n",
    "echo $'\\n=====  atmodat subdirectory with detailed checker output ===='\n",
    "#echo '\\n =====  atmodat subdirectory with detailed checker output ===='\n",
    "ls -g myoutputdir2/atmodat\n",
    "echo $'\\n======  CF subdirectory with detailed checker output ===='\n",
    "ls -g myoutputdir2/CF"
   ]
  },
  {
   "cell_type": "markdown",
   "id": "88ac8076-ae2b-464b-82eb-77b00cbbeabc",
   "metadata": {},
   "source": [
    "##### Step 4.4.2: Show content of short_summary.txt that provides summary statistics on the atmodat checker and CF checker results  "
   ]
  },
  {
   "cell_type": "code",
   "execution_count": 153,
   "id": "5bea43a9-9666-4495-92f8-ee3c5d8ae336",
   "metadata": {},
   "outputs": [
    {
     "name": "stdout",
     "output_type": "stream",
     "text": [
      "Short summary of checks: \n",
      " \n",
      "Checking against: atmodat_standard:3.0, CF table version: 77\n",
      "Version of the AtMoDat checker: 1.1.0\n",
      "Checked at: 2021-09-05T19:20:39.181847\n",
      " \n",
      "Number of checked files: 5\n",
      "Total checks passed: 54/153\n",
      "Mandatory checks passed: 15/18\n",
      "Recommended checks passed: 28/90\n",
      "Optional checks passed: 11/45\n",
      "CF checker errors: 1"
     ]
    }
   ],
   "source": [
    "%%bash\n",
    "cat myoutputdir2/short_summary.txt"
   ]
  },
  {
   "cell_type": "markdown",
   "id": "4c83456e-2e4e-45d5-9a11-704685ede69b",
   "metadata": {},
   "source": [
    "##### Step 4.4.2: Show content of long_summary_mandatory.csv"
   ]
  },
  {
   "cell_type": "code",
   "execution_count": 154,
   "id": "574d6f72-a57b-49d7-93c1-21066f5a2278",
   "metadata": {},
   "outputs": [
    {
     "name": "stdout",
     "output_type": "stream",
     "text": [
      "File,Check level,Global Attribute,Error Message\n",
      ",,,\n",
      "CMIP6_ATTRIBUTES.nc,mandatory,Conventions,ATMODAT Standard information not present\n",
      ",,,\n",
      "NO_ATTRIBUTES.nc,mandatory,Conventions,global attribute is not present\n",
      "NO_ATTRIBUTES.nc,mandatory,institution,global attribute is not present\n"
     ]
    }
   ],
   "source": [
    "%%bash\n",
    "cat myoutputdir2/long_summary_mandatory.csv"
   ]
  },
  {
   "cell_type": "markdown",
   "id": "be256f28-1141-4994-8642-69f501b26498",
   "metadata": {},
   "source": [
    "<span style=\"color:red\">**--> lon_summary_mandatory.txt lists all mandatory errors detected in any file contained in the directory demo_data. <br> \n",
    "    The content of the global attribute *Conventions* is 'CF-1.7 CMIP-6.2' , but for meeting the ATMODAT Standard, this attribute has to be 'CF-1.8 ATMODAT-3.0'**</span>"
   ]
  },
  {
   "cell_type": "markdown",
   "id": "6e3b63e1-ba9b-4426-834a-1fcba31adeb4",
   "metadata": {},
   "source": [
    "##### Step 4.4.3: Show content of long_summary_recommended.csv"
   ]
  },
  {
   "cell_type": "code",
   "execution_count": 161,
   "id": "b7623719-e81b-4616-9d62-4c94429880fe",
   "metadata": {},
   "outputs": [
    {
     "name": "stdout",
     "output_type": "stream",
     "text": [
      "File,Check level,Global Attribute,Error Message\n",
      ",,,\n",
      "CMIP6_ATTRIBUTES.nc,recommended,creator,global attribute is not present\n",
      "CMIP6_ATTRIBUTES.nc,recommended,crs,global attribute is not present\n",
      "CMIP6_ATTRIBUTES.nc,recommended,geospatial_lat_resolution,global attribute is not present.\n",
      "CMIP6_ATTRIBUTES.nc,recommended,geospatial_lon_resolution,global attribute is not present.\n",
      "CMIP6_ATTRIBUTES.nc,recommended,geospatial_vertical_resolution,global attribute is not present\n",
      "CMIP6_ATTRIBUTES.nc,recommended,keywords,global attribute is not present\n",
      "CMIP6_ATTRIBUTES.nc,recommended,standard_name_vocabulary,global attribute is not present\n",
      "CMIP6_ATTRIBUTES.nc,recommended,summary,global attribute is not present\n",
      ",,,\n",
      "MINUM_ATMODAT_ATTRIBUTES.nc,recommended,contact,global attribute is not present\n",
      "MINUM_ATMODAT_ATTRIBUTES.nc,recommended,creation_date,global attribute is not present\n",
      "MINUM_ATMODAT_ATTRIBUTES.nc,recommended,creator,global attribute is not present\n",
      "MINUM_ATMODAT_ATTRIBUTES.nc,recommended,crs,global attribute is not present\n",
      "MINUM_ATMODAT_ATTRIBUTES.nc,recommended,frequency,global attribute is not present\n",
      "MINUM_ATMODAT_ATTRIBUTES.nc,recommended,geospatial_lat_resolution,global attribute is not present.\n",
      "MINUM_ATMODAT_ATTRIBUTES.nc,recommended,geospatial_lon_resolution,global attribute is not present.\n",
      "MINUM_ATMODAT_ATTRIBUTES.nc,recommended,geospatial_vertical_resolution,global attribute is not present\n",
      "MINUM_ATMODAT_ATTRIBUTES.nc,recommended,history,global attribute is not present\n"
     ]
    }
   ],
   "source": [
    "%%bash\n",
    "head -20 myoutputdir2/long_summary_recommended.csv"
   ]
  },
  {
   "cell_type": "markdown",
   "id": "43b86d64-4bd2-4ade-a8a3-62ef6bf1e826",
   "metadata": {},
   "source": [
    "##### Step 4.4.4: Show content of the output file that contains the check against the ATMODAT Standard (machine readible JSON file)"
   ]
  },
  {
   "cell_type": "code",
   "execution_count": 162,
   "id": "6df0b7fd-ef2f-4e50-8c08-127ea680f164",
   "metadata": {},
   "outputs": [
    {
     "name": "stdout",
     "output_type": "stream",
     "text": [
      "{\n",
      "  \"demo_data/NO_ATTRIBUTES.nc\": {\n",
      "    \"atmodat_standard:3.0\": {\n",
      "      \"scored_points\": 0,\n",
      "      \"possible_points\": 104,\n",
      "      \"high_count\": 2,\n",
      "      \"medium_count\": 18,\n",
      "      \"low_count\": 9,\n",
      "      \"high_priorities\": [\n",
      "        {\n",
      "          \"name\": \"Global attribute: Conventions\",\n",
      "          \"weight\": 3,\n",
      "          \"value\": [\n",
      "            0,\n",
      "            4\n",
      "          ],\n",
      "          \"msgs\": [\n",
      "            \"'Conventions' global attribute is not present\"\n",
      "          ],\n",
      "          \"children\": []\n",
      "        },\n",
      "        {\n",
      "          \"name\": \"Global attribute: institution\",\n",
      "          \"weight\": 3,\n",
      "          \"value\": [\n",
      "            0,\n",
      "            4\n",
      "          ],\n",
      "          \"msgs\": [\n",
      "            \"'institution' global attribute is not present\"\n",
      "          ],\n",
      "          \"children\": []\n",
      "        }\n",
      "      ],\n",
      "      \"medium_priorities\": [\n",
      "        {\n",
      "          \"name\": \"Global attribute: contact\",\n",
      "          \"weight\": 2,\n",
      "          \"value\": [\n",
      "            0,\n"
     ]
    }
   ],
   "source": [
    "%%bash\n",
    "head -40  myoutputdir2/atmodat/NO_ATTRIBUTES_atmodat_result.json"
   ]
  },
  {
   "cell_type": "markdown",
   "id": "7460618a-2d00-4b24-8762-442963999775",
   "metadata": {},
   "source": [
    "##### Step 4.4.4: Check which file provoked an error message in the CF checker"
   ]
  },
  {
   "cell_type": "code",
   "execution_count": 175,
   "id": "1d26a6ab-c7dc-45e5-972f-16025c4d79f3",
   "metadata": {
    "tags": []
   },
   "outputs": [
    {
     "name": "stdout",
     "output_type": "stream",
     "text": [
      "total 40\n",
      "-rw-r--r--  1 angelika  staff   693  5 Sep 19:20 ALL_ATMODAT_ATTRIBUTES_cfchecks_result.txt\n",
      "-rw-r--r--  1 angelika  staff  1006  5 Sep 19:20 CMIP6_ATTRIBUTES_cfchecks_result.txt\n",
      "-rw-r--r--  1 angelika  staff   695  5 Sep 19:20 MINUM_ATMODAT_ATTRIBUTES_cfchecks_result.txt\n",
      "-rw-r--r--  1 angelika  staff  1484  5 Sep 19:20 NO_ATTRIBUTES_cfchecks_result.txt\n",
      "-rw-r--r--  1 angelika  staff   829  5 Sep 19:20 WRONG_STANDARDNAME_cfchecks_result.txt\n",
      "myoutputdir2/CF/WRONG_STANDARDNAME_cfchecks_result.txt\n"
     ]
    }
   ],
   "source": [
    "%%bash\n",
    "ls -l myoutputdir2/CF\n",
    "\n",
    "\n",
    "grep -l Invalid myoutputdir2/CF/*.txt"
   ]
  },
  {
   "cell_type": "markdown",
   "id": "fe84c132-8729-4908-aa87-243c33fb4e85",
   "metadata": {},
   "source": [
    "#### Check all files in the directory demo_data and and put the output into the folder checkeroutput. Also include a test summary (option -s)"
   ]
  },
  {
   "cell_type": "markdown",
   "id": "2584f6cc-3bf1-4ccc-bb63-b007c3fb4258",
   "metadata": {},
   "source": [
    "# APPENDIX"
   ]
  },
  {
   "cell_type": "markdown",
   "id": "d42e83a7-0b74-457a-93b3-9b7f4ffb1d4b",
   "metadata": {},
   "source": [
    "#### How the CMIP6 sample files were prepared \n",
    "See more details on the CMIP6 experiment: https://cera-www.dkrz.de/WDCC/ui/cerasearch/cmip6?input=CMIP6.CMIP.MPI-M.MPI-ESM1-2-HR.historical <br>"
   ]
  },
  {
   "cell_type": "markdown",
   "id": "30d5017f-ae4d-45db-ab7f-7775fd57e095",
   "metadata": {},
   "source": [
    "##### Merge the variables ps and tas into a single netCDF file, subset region of Germany and select the day 2010-07-12"
   ]
  },
  {
   "cell_type": "raw",
   "id": "9e7513fe-362f-4478-9ed9-be39a8352f1d",
   "metadata": {},
   "source": [
    "%%bash\n",
    "\n",
    "#-- make output directory for test files\n",
    "odir='demo_data'\n",
    "mkdir -p ${odir}\n",
    "cd ${odir}\n",
    "fileroot='3hr_MPI-ESM1-2-HR_historical_r6i1p1f1_gn_201001010300-201501010000' \n",
    "#-- get surface pressure data\n",
    "wget http://esgf3.dkrz.de/thredds/fileServer/cmip6/CMIP/MPI-M/MPI-ESM1-2-HR/historical/r6i1p1f1/3hr/ps/gn/v20190710/ps_${fileroot}.nc\n",
    "#-- get (surface) air temperature data\n",
    "wget http://esgf3.dkrz.de/thredds/fileServer/cmip6/CMIP/MPI-M/MPI-ESM1-2-HR/historical/r6i1p1f1/3hr/tas/gn/v20190710/tas_${fileroot}.nc\n",
    "\n",
    "#-- subset data: extract 2010-07-12 and region of Germany\n",
    "ofileroot='CMIP6_MPI-ESM1-2-HR_hist_r6i1p1f1'\n",
    "region='Germany'\n",
    "lonlatbox='5,15,47,55'\n",
    "for var in ps tas;do cdo seldate,2010-07-12 -sellonlatbox,${lonlatbox} ${var}_${fileroot}.nc ${var}_${ofileroot}_${region}_2010-07-12.nc;done\n",
    "rm -f *_${fileroot}.nc\n",
    "\n",
    "cdo -s merge {??,???}_${ofileroot}_${region}_2010-07-12.nc CMIP6_ATTRIBUTES.nc\n",
    "rm -f {??,???}_${ofileroot}_${region}_2010-07-12.nc"
   ]
  },
  {
   "cell_type": "markdown",
   "id": "9c86f9cf-2a08-4735-904e-e88175176aae",
   "metadata": {},
   "source": [
    "##### Modify the CMIP6 metadata to create the files: NOATTRIBUTES.nc, MINUM_ATMODAT_ATTRIBUTES.nc, WRONG_STANDARD_NAME.nc"
   ]
  },
  {
   "cell_type": "raw",
   "id": "d0d355d6-dc01-42e7-85c0-72befe7ef72f",
   "metadata": {},
   "source": [
    "%%bash\n",
    "\n",
    "cp -p CMIP6_ATTRIBUTES.nc NOATTRIBUTES.nc\n",
    "ncatted -h -a ,global,d,, -a ,,d,, NOATTRIBUTES.nc\n",
    "ncks -h -O -C -x -v lon_bnds,lat_bnds,time_bnds,height NOATTRIBUTES.nc tmpfile; mv tmpfile NOATTRIBUTES.nc\n",
    "\n",
    "cp -p CMIP6_ATTRIBUTES.nc MINUM_ATMODAT_ATTRIBUTES.nc\n",
    "ncatted -O -h -a ,global,d,, -a Conventions,global,c,c,'CF-1.8 ATMODAT-3.0' -a institution,global,c,c,'Max Planck Institute for Meteorology' \\\n",
    "             -a source,global,c,c,'MPI-ESM1.2-HR (2017)' MINUM_ATMODAT_ATTRIBUTES.nc\n",
    "for varatt in history comment standard_name axis bounds coordinates CDI_grid_type CDI_grid_num_LPE _FillValue missing_value \\\n",
    "              cell_methods cell_measures; do ncatted -h -O -a ${varatt},,d,, MINUM_ATMODAT_ATTRIBUTES.nc;done\n",
    "ncks -h -O -C -x -v lon_bnds,lat_bnds,time_bnds,height MINUM_ATMODAT_ATTRIBUTES.nc tmpfile;mv tmpfile MINUM_ATMODAT_ATTRIBUTES.nc\n",
    "\n",
    "\n",
    "cp -p MINUM_ATMODAT_ATTRIBUTES.nc WRONG_STANDARD_NAME.nc\n",
    "ncatted -O -h -a standard_name,ps,c,c,\"surface_air_pressure\" -a units,ps,d,, -a standard_name,time,c,c,\"times\" \\\n",
    "              -a standard_name,tas,c,c,\"air_temperature\" -a units,tas,o,c,\"°C\" WRONG_STANDARD_NAME.nc"
   ]
  },
  {
   "cell_type": "markdown",
   "id": "dbcf5d9d-d92e-482b-ab08-413a7bf3a800",
   "metadata": {},
   "source": [
    "##### Modify the CMIP6 metadata to create the file: ALL_ATMODAT_ATTRIBUTES.nc"
   ]
  },
  {
   "cell_type": "code",
   "execution_count": 176,
   "id": "943cc8c4-1e2b-4a3e-b6db-3b7da0282743",
   "metadata": {},
   "outputs": [],
   "source": [
    "%%bash\n",
    "\n",
    "creator='Jungclaus, Johann, https://orcid.org/0000-0002-3849-4339 et al.'     #-- optimally add full list of creators; \n",
    "# for CMIP6, the list would be very long, https://cera-www.dkrz.de/WDCC/ui/cerasearch/cmip6?input=CMIP6.CMIP.MPI-M.MPI-ESM1-2-HR.historical.r6i1p1f1.6hrPlev.tas.gn.v20190815 which is why we truncate it in this example file\n",
    "crs='WGS84 (T127 gaussian grid)'                                              #-- gridtype is Gaussian, globally 384 x 192 longitude/latitude\n",
    "geospatial_lat_resolution='0.94 degree'                                          #-- approximate value   \n",
    "geospatial_lon_resolution='0.9375 degree' \n",
    "geospatial_vertical_resolution='point'                                        #-- only surface layer\n",
    "keywords='CMIP, COUPLED CLIMATE MODELS'\n",
    "standard_name_vocabulary='CF Standard Name Table v77'\n",
    "summary='These data have been generated as part of the internationally-coordinated Coupled Model Intercomparison Project Phase 6 (CMIP6; see also GMD Special Issue: http://www.geosci-model-dev.net/special_issue590.html). The data contained in this file represents MPI-M MPI-ESM1.2-HR model output prepared for CMIP6 CMIP historical.'\n",
    "comment='This file has been prepared for the EMS21 user workshop https://meetingorganizer.copernicus.org/EMS2021/session/41771. The user workshop focusses on netCDF metadata. '\n",
    "featureType='point'\n",
    "keywords_vocabulary='GCMD'\n",
    "\n",
    "\n",
    "metadata_link='https://cera-www.dkrz.de/WDCC/ui/cerasearch/cmip6?input=CMIP6.CMIP.MPI-M.MPI-ESM1-2-HR'\n",
    "processing_level='not applicable; data are model data'\n",
    "program='CMIP6'\n",
    "project='CMIP6'\n",
    "\n",
    "cp -p demo_data/CMIP6_ATTRIBUTES.nc demo_data/ALL_ATMODAT_ATTRIBUTES.nc\n",
    "\n",
    "\n",
    "#-- Recommended ATMODAT global attributes NOT contained in CMIP6 attributes:\n",
    "rec_att_AS_miss=\"'creator' 'crs' 'geospatial_lat_resolution' 'geospatial_lon_resolution' 'geospatial_vertical_resolution' 'keywords' 'standard_name_vocabulary' 'summary'\"\n",
    "rec_att_AS_mand=\"'Conventions' 'institution' 'source'\"\n",
    "rec_att_AS_rec=\"''contact' 'creation_date' 'creator' 'crs' 'frequency' 'geospatial_lat_resolution' 'geospatial_lon_resolution' 'geospatial_vertical_resolution' 'history' 'institution_id' 'keywords' 'license' 'nominal_resolution' 'realm' 'source_type' 'standard_name_vocabulary' 'summary' 'title'\"\n",
    "rec_att_AS_opt=\"'comment' 'featureType' 'further_info_url' 'keywords_vocabulary' 'metadata_link' 'processing_level' 'program' 'project' 'references'\"\n",
    "conv_att_AS='CF-1.8 ATMODAT-3.0'                            #-- required Conventions entry in ATMODAT Standard\n",
    "conv_att_C6='CF-1.7 CMIP-6.2'                               #-- required Conventions entry in CMIP6 Standard\n",
    "\n",
    "\n",
    "\n",
    "#-- Get all CMIP6 global attributes\n",
    "rec_att_C6_all=`ncdump -h demo_data/ALL_ATMODAT_ATTRIBUTES.nc|grep '\\s:'|cut -d: -f2|cut -d= -f1|tr -d ' '|sed -e \"s/^/'/\" -e \"s/$/' /\"|tr -d '\\n'`\n",
    "\n",
    "#-- Remove all CMIP6 global attributes that are not requiered for the ATMODAT standard\n",
    "for rec in $rec_att_C6_all;do\n",
    "    rec2=`echo $rec|tr -d \\'\\\" `\n",
    "    grep_res=`echo $rec_att_AS_mand $rec_att_AS_rec $rec_att_AS_opt |grep $rec2`\n",
    "    if [ -z \"${grep_res}\" ]; then\n",
    "        ncatted -O -h -a $rec2,global,d,, demo_data/ALL_ATMODAT_ATTRIBUTES.nc\n",
    "    fi\n",
    "done\n",
    "\n",
    "#-- Get all CMIP6 global attributes that are also ATMODAT global attributes\n",
    "rec_att_C6_min=`ncdump -h demo_data/ALL_ATMODAT_ATTRIBUTES.nc|grep '\\s:'|cut -d: -f2|cut -d= -f1|tr -d ' '|sed -e \"s/^/'/\" -e \"s/$/' /\"|tr -d '\\n'`\n",
    "\n",
    "\n",
    "#-- Get all ATMODAT global attributes that are not provided by the CMIP6 global attributes\n",
    "for rec in $rec_att_AS_mand $rec_att_AS_rec $rec_att_AS_opt;do\n",
    "    rec2=`echo $rec|tr -d \\'\\\" `\n",
    "    grep_res=`echo $rec_att_C6_min |grep $rec2`\n",
    "    if [ -z \"${grep_res}\" ]; then\n",
    "        eval attributetext=\\$$rec2\n",
    "        ncatted -O -h -a $rec2,global,c,c,\"`echo $attributetext`\" demo_data/ALL_ATMODAT_ATTRIBUTES.nc\n",
    "    fi\n",
    "done\n",
    "\n",
    "#-- Replace CMIP Conventions attribute with ATMODAT Conventions attribute\n",
    "ncatted -O -h -a Conventions,global,o,c,\"$conv_att_AS\" demo_data/ALL_ATMODAT_ATTRIBUTES.nc\n",
    "\n",
    "#-- Remove variable attributes which are not mandatory to the ATMODAT standard\n",
    "ncks -h -O -C -x -v lon_bnds,lat_bnds,time_bnds,height demo_data/ALL_ATMODAT_ATTRIBUTES.nc tmpfile; mv tmpfile demo_data/ALL_ATMODAT_ATTRIBUTES.nc\n",
    "for varatt in history comment axis bounds coordinates CDI_grid_type CDI_grid_num_LPE _FillValue missing_value cell_methods cell_measures; do \n",
    "    ncatted -h -O -a ${varatt},,d,, demo_data/ALL_ATMODAT_ATTRIBUTES.nc\n",
    "done\n",
    "\n",
    "\n",
    "\n"
   ]
  }
 ],
 "metadata": {
  "kernelspec": {
   "display_name": "cams63",
   "language": "python",
   "name": "cams63"
  },
  "language_info": {
   "codemirror_mode": {
    "name": "ipython",
    "version": 3
   },
   "file_extension": ".py",
   "mimetype": "text/x-python",
   "name": "python",
   "nbconvert_exporter": "python",
   "pygments_lexer": "ipython3",
   "version": "3.9.6"
  }
 },
 "nbformat": 4,
 "nbformat_minor": 5
}
