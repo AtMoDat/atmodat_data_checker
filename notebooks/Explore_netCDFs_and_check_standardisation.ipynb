{
 "cells": [
  {
   "cell_type": "markdown",
   "id": "7a07d79c-9831-4e67-8f90-e2a6e05137c4",
   "metadata": {
    "tags": []
   },
   "source": [
    "***\n",
    "# Demo Jupyter Notebook for the EMS21 User Workshop ![AtMoDat Image](https://www.dkrz.de/en/projects-and-partners/projects-1/atmodat-1/@@images/logo/preview)\n",
    "***\n",
    "## Standardized, FAIR and CF-compliant publication of urban climate model data.\n",
    "          for details, please see https://meetingorganizer.copernicus.org/EMS2021/session/41771#"
   ]
  },
  {
   "cell_type": "markdown",
   "id": "58d403f3-3c24-4fd6-859b-b27d864c04f1",
   "metadata": {},
   "source": [
    "<div class=\"alert-info\" role=\"alert\">\n",
    "  <h4 class=\"alert-heading\"><span style=\"font-family: Arial; font-size:1.4em;color:black;\"> README</h4>\n",
    "  <p><span style=\"font-family: Arial; font-size:1.0em;color:black;\"> – Test netCDF files are stored in the directory.  </p> Use %%bash as first line in a cell to execute BASH command.</p>\n",
    "  <hr>\n",
    "  <p class=\"mb-0\">Use Shift + Enter to run the current cell.</p>\n",
    "</div>"
   ]
  },
  {
   "cell_type": "markdown",
   "id": "115be68d-0d8e-4cbc-a95c-e76f253ae24f",
   "metadata": {},
   "source": [
    "### Step 1: Check available netCDF files in demo_data directory"
   ]
  },
  {
   "cell_type": "markdown",
   "id": "1a5a4447-9e4d-41cc-b19f-c6eeb8569686",
   "metadata": {},
   "source": [
    "using BASH listing command `ls`  (-lh option to print out details on files inlcuding human-readible file sizes)"
   ]
  },
  {
   "cell_type": "code",
   "execution_count": null,
   "id": "1eaaaff6-b941-4e92-9ea2-4707678cd8b4",
   "metadata": {},
   "outputs": [],
   "source": [
    "%%bash\n",
    "ls -lh demo_data/*.nc"
   ]
  },
  {
   "cell_type": "markdown",
   "id": "3a4643ee-2cf5-46d7-a5ac-ae3e1af87201",
   "metadata": {},
   "source": [
    "### Step 2: Exploring netCDF file content with NCOs"
   ]
  },
  {
   "cell_type": "markdown",
   "id": "b717e56b-ad93-4eed-8a7f-25f81d6975cc",
   "metadata": {},
   "source": [
    "using the BASH terminal command `ncatted -h`   (-h options means that only the netCDF header is shown)"
   ]
  },
  {
   "cell_type": "code",
   "execution_count": null,
   "id": "e88010bd-cc26-4e4e-b1f6-fc7c30ea4801",
   "metadata": {
    "tags": []
   },
   "outputs": [],
   "source": [
    "%%bash\n",
    "ncdump -h demo_data/NOATTRIBUTES.nc"
   ]
  },
  {
   "cell_type": "code",
   "execution_count": null,
   "id": "07d3b0c9-0953-4a67-971d-554edb5f4ce3",
   "metadata": {
    "tags": []
   },
   "outputs": [],
   "source": [
    "%%bash\n",
    "ncdump -h demo_data/CMIP6_ATTRIBUTES.nc|more"
   ]
  },
  {
   "cell_type": "markdown",
   "id": "bda1ea5e-6db2-44a2-9d79-e3377dd15d84",
   "metadata": {
    "tags": []
   },
   "source": [
    "### Step 3: Exploring netCDF file content with xarray."
   ]
  },
  {
   "cell_type": "markdown",
   "id": "d0831521-8a1f-4477-8c9d-e83db9743517",
   "metadata": {},
   "source": [
    "#### Import required Python modules"
   ]
  },
  {
   "cell_type": "code",
   "execution_count": null,
   "id": "cb93b91e-c188-4a50-bf3f-7cd792abb9cb",
   "metadata": {},
   "outputs": [],
   "source": [
    "import xarray as xr"
   ]
  },
  {
   "cell_type": "markdown",
   "id": "4582f96b-6c40-4ca5-8b1e-a9496594f6e3",
   "metadata": {},
   "source": [
    "#### Read in unstandardised CMIP6 netCDF file demo_data/NOATTRIBUTES.nc"
   ]
  },
  {
   "cell_type": "code",
   "execution_count": null,
   "id": "e8304387-7e83-456c-99a7-66a23f49df78",
   "metadata": {},
   "outputs": [],
   "source": [
    "ifile1 = 'demo_data/NOATTRIBUTES.nc'\n",
    "ds1    = xr.open_dataset(ifile1)"
   ]
  },
  {
   "cell_type": "markdown",
   "id": "5aedec83-046a-4b5e-a7fa-82e9fd22a147",
   "metadata": {},
   "source": [
    "#### Have a look at the file content\n"
   ]
  },
  {
   "cell_type": "code",
   "execution_count": null,
   "id": "fe18daa3-900e-48f4-96dd-ff2e0616baa1",
   "metadata": {
    "tags": []
   },
   "outputs": [],
   "source": [
    "ds1"
   ]
  },
  {
   "cell_type": "markdown",
   "id": "4404e875-189c-4c82-bfcc-642b27317042",
   "metadata": {
    "tags": []
   },
   "source": [
    "<span style=\"color:red\">**This unstandardised file has no metadata describing the data. <br>It remains unclear what the variables pr and tas are representing and what units they have.**</span>"
   ]
  },
  {
   "cell_type": "markdown",
   "id": "659944bb-ca02-4cc0-9f1d-7800fa8238a0",
   "metadata": {
    "tags": []
   },
   "source": [
    "#### Plot the first time step of variable tas"
   ]
  },
  {
   "cell_type": "code",
   "execution_count": null,
   "id": "a5fea5f6-fae6-4ea4-98b2-28bfc4ff84e3",
   "metadata": {
    "tags": []
   },
   "outputs": [],
   "source": [
    "ds1.tas.isel(time=1).plot()"
   ]
  },
  {
   "cell_type": "markdown",
   "id": "971f1257-7d29-4e0f-9708-5b894bf73e83",
   "metadata": {
    "tags": []
   },
   "source": [
    "<span style=\"color:red\">**--> Without metadata, the plotting routine cannot correctly label the plot .**</span>\n"
   ]
  },
  {
   "cell_type": "markdown",
   "id": "c5fe981e-b3b8-45ca-a75b-82effce3739b",
   "metadata": {
    "tags": []
   },
   "source": [
    "#### Read a standardised CMIP6 file with xarray (same data as file1 but with rich metadata)"
   ]
  },
  {
   "cell_type": "code",
   "execution_count": null,
   "id": "ea706ce4-6cdd-46bc-bb81-806decfaff60",
   "metadata": {
    "tags": []
   },
   "outputs": [],
   "source": [
    "ifile2 = 'demo_data/CMIP6_ATTRIBUTES.nc'\n",
    "ds2    = xr.open_dataset(ifile2)"
   ]
  },
  {
   "cell_type": "markdown",
   "id": "915751dd-42f8-40da-a8c2-52014bcfabac",
   "metadata": {
    "tags": []
   },
   "source": [
    "##### Have a look at the file content\n",
    "* Click on the file icon next to the database icon to view the attributes of the individual coordinate and data variables. \n",
    "* click on the $\\nabla$ Attributes to look at the 49 global attributes."
   ]
  },
  {
   "cell_type": "code",
   "execution_count": null,
   "id": "0e1498fa-9190-44ac-a29c-4b3e09aa5336",
   "metadata": {
    "tags": []
   },
   "outputs": [],
   "source": [
    "ds2"
   ]
  },
  {
   "cell_type": "markdown",
   "id": "58714fed-ba0f-40c3-b0ff-3f434f4d89fb",
   "metadata": {
    "tags": []
   },
   "source": [
    "##### plot first time step of variable tas"
   ]
  },
  {
   "cell_type": "code",
   "execution_count": null,
   "id": "6d1505fb-7a1f-4a88-9e69-d687c61cab00",
   "metadata": {
    "tags": []
   },
   "outputs": [],
   "source": [
    "ds2.tas.isel(time=1).plot()"
   ]
  },
  {
   "cell_type": "markdown",
   "id": "50a0dc15-e454-4181-b9fe-c8ced1b1381d",
   "metadata": {
    "tags": []
   },
   "source": [
    "<span style=\"color:red\">**--> With metadata, the plotting routine automatically labels the plot with units .**</span>"
   ]
  },
  {
   "cell_type": "markdown",
   "id": "e52511b9-47a7-4736-b69c-8d0286c0348e",
   "metadata": {},
   "source": [
    "## Step 4: Evaluate the files with the atmodat data checker"
   ]
  },
  {
   "cell_type": "markdown",
   "id": "8c4e7286-d349-4f7d-b892-60c9b9396121",
   "metadata": {},
   "source": [
    "using command `run_checks.py` from BASH terminal"
   ]
  },
  {
   "cell_type": "markdown",
   "id": "3d6ef645-3ff1-4d14-b8a7-287d4617c153",
   "metadata": {},
   "source": [
    "#### Show usage instructions of the `run_checks.py`"
   ]
  },
  {
   "cell_type": "code",
   "execution_count": null,
   "id": "8e7622c3-5914-4a54-82b8-22eeda482069",
   "metadata": {},
   "outputs": [],
   "source": [
    "%%bash\n",
    "run_checks.py --help"
   ]
  },
  {
   "cell_type": "markdown",
   "id": "6822c46f-7505-426c-ad7a-c41ad96f504f",
   "metadata": {
    "tags": []
   },
   "source": [
    "#### Check MINIMALATTRIBUTES.nc files and print out the results on the screen"
   ]
  },
  {
   "cell_type": "code",
   "execution_count": null,
   "id": "e73f4069-d89b-468a-9c23-9a24241e5286",
   "metadata": {
    "tags": []
   },
   "outputs": [],
   "source": [
    "%%bash\n",
    "run_checks.py -v -f demo_data/MINUM_ATMODAT_ATTRIBUTES.nc"
   ]
  },
  {
   "cell_type": "markdown",
   "id": "4b0cdb9c-2284-43b4-baa6-b7417efa91b3",
   "metadata": {
    "tags": []
   },
   "source": [
    "#### Check CMIP6_ATTRIBUTES.nc files and print out the results on the screen"
   ]
  },
  {
   "cell_type": "code",
   "execution_count": null,
   "id": "1d26a6ab-c7dc-45e5-972f-16025c4d79f3",
   "metadata": {
    "tags": []
   },
   "outputs": [],
   "source": [
    "%%bash\n",
    "run_checks.py -v -f demo_data/CMIP6_ATTRIBUTES.nc"
   ]
  },
  {
   "cell_type": "markdown",
   "id": "fe84c132-8729-4908-aa87-243c33fb4e85",
   "metadata": {},
   "source": [
    "#### Check all files in the directory demo_data and and put the output into the folder checkeroutput. Also include a test summary (option -s)"
   ]
  },
  {
   "cell_type": "code",
   "execution_count": null,
   "id": "4c5b954c-e10c-4cae-b7b0-58f6dfff76d2",
   "metadata": {},
   "outputs": [],
   "source": [
    "%%bash\n",
    "run_checks.py -s -p demo_data -op checkeroutput"
   ]
  },
  {
   "cell_type": "markdown",
   "id": "477d6532-8251-4710-a7ca-ee357f6bb7b6",
   "metadata": {},
   "source": [
    "#### Look at the output created in the directory checkeroutput"
   ]
  },
  {
   "cell_type": "markdown",
   "id": "3bc0f864-6cfe-4e48-8c26-17e580f6e178",
   "metadata": {},
   "source": [
    "##### List the files and subdirectories"
   ]
  },
  {
   "cell_type": "code",
   "execution_count": null,
   "id": "a554a0a8-9740-4716-9655-e3c7fa2eae4b",
   "metadata": {},
   "outputs": [],
   "source": [
    "%%bash\n",
    "ls -l checkeroutput"
   ]
  },
  {
   "cell_type": "code",
   "execution_count": null,
   "id": "54eee667-9ff0-4120-9941-0a0ae54f1ffb",
   "metadata": {},
   "outputs": [],
   "source": [
    "%%bash\n",
    "ls -l checkeroutput/CF"
   ]
  },
  {
   "cell_type": "code",
   "execution_count": null,
   "id": "267e7c7a-1de2-4b02-a9d0-b10e35510aa3",
   "metadata": {},
   "outputs": [],
   "source": [
    "%%bash\n",
    "ls -l checkeroutput/atmodat"
   ]
  },
  {
   "cell_type": "markdown",
   "id": "cf75f0e0-17f3-4d3c-877d-5a53a6dc367a",
   "metadata": {},
   "source": [
    "##### Look at the output created in the directory checkeroutput"
   ]
  },
  {
   "cell_type": "code",
   "execution_count": null,
   "id": "fbb05717-e843-4f52-8aec-bf8b6105a499",
   "metadata": {},
   "outputs": [],
   "source": [
    "%%bash\n",
    "cat checkeroutput/short_summary.txt\n"
   ]
  },
  {
   "cell_type": "code",
   "execution_count": null,
   "id": "c5e0d410-f5d0-4e25-96bf-fee4ae39bb82",
   "metadata": {},
   "outputs": [],
   "source": [
    "%%bash\n",
    "cat checkeroutput/long_summary_mandatory.csv\n"
   ]
  },
  {
   "cell_type": "markdown",
   "id": "2584f6cc-3bf1-4ccc-bb63-b007c3fb4258",
   "metadata": {},
   "source": [
    "# APPENDIX"
   ]
  },
  {
   "cell_type": "markdown",
   "id": "d42e83a7-0b74-457a-93b3-9b7f4ffb1d4b",
   "metadata": {},
   "source": [
    "#### How the CMIP6 sample files were prepared "
   ]
  },
  {
   "cell_type": "raw",
   "id": "4c9dd5ee-da4a-4196-b097-8ff8ec3adb01",
   "metadata": {},
   "source": [
    "%%bash\n",
    "\n",
    "#-- make output directory for test files\n",
    "odir='demo_data'\n",
    "mkdir -p ${odir}\n",
    "cd ${odir}\n",
    "fileroot='3hr_MPI-ESM1-2-HR_historical_r6i1p1f1_gn_201001010300-201501010000' \n",
    "#-- get surface pressure data\n",
    "wget http://esgf3.dkrz.de/thredds/fileServer/demo_data/CMIP/MPI-M/MPI-ESM1-2-HR/historical/r6i1p1f1/3hr/ps/gn/v20190710/ps_${fileroot}.nc\n",
    "#-- get (surface) air temperature data\n",
    "wget http://esgf3.dkrz.de/thredds/fileServer/demo_data/CMIP/MPI-M/MPI-ESM1-2-HR/historical/r6i1p1f1/3hr/tas/gn/v20190710/tas_${fileroot}.nc\n",
    "\n",
    "#-- subset data: extract 2010-07-12 and region of Germany\n",
    "ofileroot='CMIP6_MPI-ESM1-2-HR_hist_r6i1p1f1'\n",
    "region='Germany'\n",
    "lonlatbox='5,15,47,55'\n",
    "for var in ps tas;do cdo seldate,2010-07-12 -sellonlatbox,${lonlatbox} ${var}_${fileroot}.nc ${var}_${ofileroot}_${region}_2010-07-12.nc;done\n",
    "rm -f *_${fileroot}.nc\n",
    "\n",
    "cdo -s merge {??,???}_${ofileroot}_${region}_2010-07-12.nc CMIP6_ATTRIBUTES.nc\n",
    "rm -f {??,???}_${ofileroot}_${region}_2010-07-12.nc\n",
    "\n",
    "cp -p CMIP6_ATTRIBUTES.nc NOATTRIBUTES.nc\n",
    "ncatted -h -a ,global,d,, -a ,,d,, NOATTRIBUTES.nc\n",
    "ncks -h -O -C -x -v lon_bnds,lat_bnds,time_bnds,height NOATTRIBUTES.nc tmpfile; mv tmpfile NOATTRIBUTES.nc\n",
    "\n",
    "cp -p CMIP6_ATTRIBUTES.nc MINUM_ATMODAT_ATTRIBUTES.nc\n",
    "ncatted -O -h -a ,global,d,, -a Conventions,global,c,c,'CF-1.8 ATMODAT-3.0' -a institution,global,c,c,'Max Planck Institute for Meteorology' \\\n",
    "             -a source,global,c,c,'MPI-ESM1.2-HR (2017)' MINUM_ATMODAT_ATTRIBUTES.nc\n",
    "for varatt in history comment standard_name axis bounds coordinates CDI_grid_type CDI_grid_num_LPE _FillValue missing_value \\\n",
    "              cell_methods cell_measures; do ncatted -h -O -a ${varatt},,d,, MINUM_ATMODAT_ATTRIBUTES.nc;done\n",
    "ncks -h -O -C -x -v lon_bnds,lat_bnds,time_bnds,height MINUM_ATMODAT_ATTRIBUTES.nc tmpfile;mv tmpfile MINUM_ATMODAT_ATTRIBUTES.nc\n",
    "\n",
    "\n",
    "cp -p MINUM_ATMODAT_ATTRIBUTES.nc WRONG_STANDARD_NAME.nc\n",
    "ncatted -O -h -a standard_name,ps,c,c,\"surface_air_pressure\" -a units,ps,d,, -a standard_name,time,c,c,\"times\" \\\n",
    "              -a standard_name,tas,c,c,\"air_temperature\" -a units,tas,o,c,\"°C\" WRONG_STANDARD_NAME.nc\n"
   ]
  },
  {
   "cell_type": "code",
   "execution_count": null,
   "id": "c89ede74-a7c4-4cec-b995-c6c63973328a",
   "metadata": {},
   "outputs": [],
   "source": []
  }
 ],
 "metadata": {
  "kernelspec": {
   "display_name": "Python 3 (ipykernel)",
   "language": "python",
   "name": "python3"
  },
  "language_info": {
   "codemirror_mode": {
    "name": "ipython",
    "version": 3
   },
   "file_extension": ".py",
   "mimetype": "text/x-python",
   "name": "python",
   "nbconvert_exporter": "python",
   "pygments_lexer": "ipython3",
   "version": "3.9.6"
  }
 },
 "nbformat": 4,
 "nbformat_minor": 5
}
