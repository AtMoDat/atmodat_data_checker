{
 "cells": [
  {
   "cell_type": "markdown",
   "id": "7a07d79c-9831-4e67-8f90-e2a6e05137c4",
   "metadata": {
    "tags": []
   },
   "source": [
    "***\n",
    "# Demo Jupyter Notebook for the EMS21 User Workshop ![AtMoDat Image](https://www.dkrz.de/en/projects-and-partners/projects-1/atmodat-1/@@images/logo/preview)\n",
    "***\n",
    "## Standardized, FAIR and CF-compliant publication of urban climate model data.\n",
    "          for details, please see https://meetingorganizer.copernicus.org/EMS2021/session/41771#"
   ]
  },
  {
   "cell_type": "markdown",
   "id": "58d403f3-3c24-4fd6-859b-b27d864c04f1",
   "metadata": {
    "tags": []
   },
   "source": [
    "<div class=\"alert-info\" role=\"alert\">\n",
    "  <h4 class=\"alert-heading\"><span style=\"font-family: Arial; font-size:1.4em;color:black;\"> README</h4>\n",
    "  <p><span style=\"font-family: Arial; font-size:1.0em;color:black;\"> – For demonstration purposes, we use a netCDF file created from CMIP6 model output. <br> \n",
    "      – We prepared test netCDF files are stored in the directory.  </p> To to execute BASH commands in a cell, put %%bash in the first line of that cell.</p>\n",
    "  <hr>\n",
    "</div>"
   ]
  },
  {
   "cell_type": "markdown",
   "id": "115be68d-0d8e-4cbc-a95c-e76f253ae24f",
   "metadata": {
    "tags": []
   },
   "source": [
    "### Step 1: Check available netCDF files in demo_data directory"
   ]
  },
  {
   "cell_type": "markdown",
   "id": "1a5a4447-9e4d-41cc-b19f-c6eeb8569686",
   "metadata": {},
   "source": [
    "using BASH listing command `ls`  (-lh option to print out details on files inlcuding human-readible file sizes)"
   ]
  },
  {
   "cell_type": "code",
   "execution_count": null,
   "id": "1eaaaff6-b941-4e92-9ea2-4707678cd8b4",
   "metadata": {},
   "outputs": [],
   "source": [
    "%%bash\n",
    "ls -lh demo_data/*.nc"
   ]
  },
  {
   "cell_type": "markdown",
   "id": "3a4643ee-2cf5-46d7-a5ac-ae3e1af87201",
   "metadata": {},
   "source": [
    "### Step 2: Exploring netCDF file content with NCOs"
   ]
  },
  {
   "cell_type": "markdown",
   "id": "b717e56b-ad93-4eed-8a7f-25f81d6975cc",
   "metadata": {},
   "source": [
    "using the BASH terminal command `ncatted -h`   (-h options means that only the netCDF header is shown)"
   ]
  },
  {
   "cell_type": "markdown",
   "id": "3e034bc0-2718-442c-84fc-2f085df73c90",
   "metadata": {
    "tags": []
   },
   "source": [
    "#### Step 2.1: This is how a CMIP6 netCDF file looks without any metadata"
   ]
  },
  {
   "cell_type": "code",
   "execution_count": null,
   "id": "e88010bd-cc26-4e4e-b1f6-fc7c30ea4801",
   "metadata": {
    "tags": []
   },
   "outputs": [],
   "source": [
    "%%bash\n",
    "ncdump -h demo_data/NO_ATTRIBUTES.nc"
   ]
  },
  {
   "cell_type": "markdown",
   "id": "3cdcf8aa-e526-402a-b465-8eb58aa70dcc",
   "metadata": {},
   "source": [
    "#### Step 2.2: This is how a CMIP6 netCDF file looks that contains all mandatory ATMODAT Standard attributes"
   ]
  },
  {
   "cell_type": "code",
   "execution_count": null,
   "id": "79505804-6fdc-45e4-801c-7bebc9fc981f",
   "metadata": {},
   "outputs": [],
   "source": [
    "%%bash\n",
    "ncdump -h demo_data/ALL_ATMODAT_ATTRIBUTES.nc"
   ]
  },
  {
   "cell_type": "markdown",
   "id": "b8c4a3ba-d03b-4124-aad2-a1133c457bc5",
   "metadata": {},
   "source": [
    "#### Step 2.3: This is how a CMIP6 netCDF file looks that contains all ATMODAT Standard attributes (mandatory, recommended, optional)"
   ]
  },
  {
   "cell_type": "code",
   "execution_count": null,
   "id": "07d3b0c9-0953-4a67-971d-554edb5f4ce3",
   "metadata": {
    "tags": []
   },
   "outputs": [],
   "source": [
    "%%bash\n",
    "ncdump -h demo_data/MINUM_ATMODAT_ATTRIBUTES.nc"
   ]
  },
  {
   "cell_type": "markdown",
   "id": "4b26cd26-1250-4607-95a7-5d72227cae30",
   "metadata": {},
   "source": [
    "#### Step 2.4: This is how the original metadata look like in a CMIP6 netCDF file"
   ]
  },
  {
   "cell_type": "code",
   "execution_count": null,
   "id": "b8210780-7dbf-452d-9e77-c56ad8bb6291",
   "metadata": {
    "tags": []
   },
   "outputs": [],
   "source": [
    "%%bash\n",
    "ncdump -h demo_data/CMIP6_ATTRIBUTES.nc"
   ]
  },
  {
   "cell_type": "markdown",
   "id": "bda1ea5e-6db2-44a2-9d79-e3377dd15d84",
   "metadata": {
    "tags": []
   },
   "source": [
    "### Step 3: Exploring netCDF file content with xarray."
   ]
  },
  {
   "cell_type": "markdown",
   "id": "d0831521-8a1f-4477-8c9d-e83db9743517",
   "metadata": {},
   "source": [
    "#### Import required Python modules"
   ]
  },
  {
   "cell_type": "code",
   "execution_count": null,
   "id": "cb93b91e-c188-4a50-bf3f-7cd792abb9cb",
   "metadata": {},
   "outputs": [],
   "source": [
    "import xarray as xr"
   ]
  },
  {
   "cell_type": "markdown",
   "id": "4582f96b-6c40-4ca5-8b1e-a9496594f6e3",
   "metadata": {},
   "source": [
    "#### Step 3.1: Read in unstandardised CMIP6 netCDF file demo_data/NOATTRIBUTES.nc"
   ]
  },
  {
   "cell_type": "code",
   "execution_count": null,
   "id": "e8304387-7e83-456c-99a7-66a23f49df78",
   "metadata": {},
   "outputs": [],
   "source": [
    "ifile1 = 'demo_data/NO_ATTRIBUTES.nc'\n",
    "ds1    = xr.open_dataset(ifile1)"
   ]
  },
  {
   "cell_type": "markdown",
   "id": "5aedec83-046a-4b5e-a7fa-82e9fd22a147",
   "metadata": {},
   "source": [
    "####  Step 3.2: Have a look at the file content\n"
   ]
  },
  {
   "cell_type": "code",
   "execution_count": null,
   "id": "fe18daa3-900e-48f4-96dd-ff2e0616baa1",
   "metadata": {
    "tags": []
   },
   "outputs": [],
   "source": [
    "ds1"
   ]
  },
  {
   "cell_type": "markdown",
   "id": "4404e875-189c-4c82-bfcc-642b27317042",
   "metadata": {
    "tags": []
   },
   "source": [
    "<span style=\"color:red\">**This unstandardised file has no metadata describing the data. <br>It remains unclear what the variables pr and tas are representing and what units they have.**</span>"
   ]
  },
  {
   "cell_type": "markdown",
   "id": "659944bb-ca02-4cc0-9f1d-7800fa8238a0",
   "metadata": {
    "tags": []
   },
   "source": [
    "####  Step 3.3: Plot the first time step of variable tas"
   ]
  },
  {
   "cell_type": "code",
   "execution_count": null,
   "id": "a5fea5f6-fae6-4ea4-98b2-28bfc4ff84e3",
   "metadata": {
    "tags": []
   },
   "outputs": [],
   "source": [
    "ds1.tas.isel(time=1).plot()"
   ]
  },
  {
   "cell_type": "markdown",
   "id": "971f1257-7d29-4e0f-9708-5b894bf73e83",
   "metadata": {
    "tags": []
   },
   "source": [
    "<span style=\"color:red\">**--> Without metadata, the plotting routine cannot correctly label the plot .**</span>\n"
   ]
  },
  {
   "cell_type": "markdown",
   "id": "c5fe981e-b3b8-45ca-a75b-82effce3739b",
   "metadata": {
    "tags": []
   },
   "source": [
    "####  Step 3.4: Read a CMIP6 file that is standardised according to the ATMODAT Standard (same data as file1 but with rich metadata)"
   ]
  },
  {
   "cell_type": "code",
   "execution_count": null,
   "id": "ea706ce4-6cdd-46bc-bb81-806decfaff60",
   "metadata": {
    "tags": []
   },
   "outputs": [],
   "source": [
    "ifile2 = 'demo_data/ALL_ATMODAT_ATTRIBUTES.nc'\n",
    "ds2    = xr.open_dataset(ifile2)"
   ]
  },
  {
   "cell_type": "markdown",
   "id": "915751dd-42f8-40da-a8c2-52014bcfabac",
   "metadata": {
    "tags": []
   },
   "source": [
    "##### Have a look at the file content\n",
    "* Click on the file icon next to the database icon to view the attributes of the individual coordinate and data variables. \n",
    "* click on the $\\nabla$ Attributes to look at the 30 global attributes."
   ]
  },
  {
   "cell_type": "code",
   "execution_count": null,
   "id": "0e1498fa-9190-44ac-a29c-4b3e09aa5336",
   "metadata": {
    "tags": []
   },
   "outputs": [],
   "source": [
    "ds2"
   ]
  },
  {
   "cell_type": "markdown",
   "id": "58714fed-ba0f-40c3-b0ff-3f434f4d89fb",
   "metadata": {
    "tags": []
   },
   "source": [
    "####  Step 3.5: Plot first time step of variable tas"
   ]
  },
  {
   "cell_type": "code",
   "execution_count": null,
   "id": "6d1505fb-7a1f-4a88-9e69-d687c61cab00",
   "metadata": {
    "tags": []
   },
   "outputs": [],
   "source": [
    "ds2.tas.isel(time=1).plot()"
   ]
  },
  {
   "cell_type": "markdown",
   "id": "50a0dc15-e454-4181-b9fe-c8ced1b1381d",
   "metadata": {
    "tags": []
   },
   "source": [
    "<span style=\"color:red\">**--> With metadata, the plotting routine automatically labels the plot with units .**</span>"
   ]
  },
  {
   "cell_type": "markdown",
   "id": "e52511b9-47a7-4736-b69c-8d0286c0348e",
   "metadata": {},
   "source": [
    "## Step 4: Evaluate the netCDF files with the atmodat checker\n",
    "*Notes* <br>\n",
    "* Run the atmodat checker using the command `run_checks.py` from BASH terminal.\n",
    "* Please note that the atmodat checker contains two modules:\n",
    "    * one that checks the global attributes for compliance with the ATMODAT standard, \n",
    "    * and another that performs a standard CF check (building upon the cfchecks library)."
   ]
  },
  {
   "cell_type": "markdown",
   "id": "3d6ef645-3ff1-4d14-b8a7-287d4617c153",
   "metadata": {},
   "source": [
    "#### Step 4.1: Show usage instructions of the `run_checks.py`"
   ]
  },
  {
   "cell_type": "code",
   "execution_count": null,
   "id": "8e7622c3-5914-4a54-82b8-22eeda482069",
   "metadata": {},
   "outputs": [],
   "source": [
    "%%bash\n",
    "run_checks.py --help"
   ]
  },
  {
   "cell_type": "markdown",
   "id": "6822c46f-7505-426c-ad7a-c41ad96f504f",
   "metadata": {
    "tags": []
   },
   "source": [
    "#### Step 4.2: Check the file ALL_ATMODAT_ATTRIBUTES.nc and write checker output to output directory *myoutputdir*\n",
    "*Notes* <br>\n",
    "* Without specifying a user-defined output directory (-op flag), the atmodat checker would write the checker output into  ../checker_ouput/YYYYMMDD_HHMM\n",
    "* We use the -s option to create summary checker output (files: short_summary.txt and long_summary_*.csv)"
   ]
  },
  {
   "cell_type": "code",
   "execution_count": null,
   "id": "e73f4069-d89b-468a-9c23-9a24241e5286",
   "metadata": {
    "tags": []
   },
   "outputs": [],
   "source": [
    "%%bash\n",
    "run_checks.py -s -f demo_data/ALL_ATMODAT_ATTRIBUTES.nc -op myoutputdir"
   ]
  },
  {
   "cell_type": "markdown",
   "id": "14ab3e40-801f-41ec-b1f5-6e3f13e5dc9a",
   "metadata": {},
   "source": [
    "#### Step 4.3: Check content of the checker output directory myoutputdir"
   ]
  },
  {
   "cell_type": "markdown",
   "id": "5d8dacbc-2a49-4904-b4d0-565bd3c3bacf",
   "metadata": {},
   "source": [
    "##### Step 4.3.1: List folders and subfolders"
   ]
  },
  {
   "cell_type": "code",
   "execution_count": null,
   "id": "208c5402-09d7-4b79-83cc-d377652744c9",
   "metadata": {},
   "outputs": [],
   "source": [
    "%%bash\n",
    "ls -g myoutputdir\n",
    "echo $'\\n=====  atmodat subdirectory with detailed checker output ===='\n",
    "#echo '\\n =====  atmodat subdirectory with detailed checker output ===='\n",
    "ls -g myoutputdir/atmodat\n",
    "echo $'\\n======  CF subdirectory with detailed checker output ===='\n",
    "ls -g myoutputdir/CF"
   ]
  },
  {
   "cell_type": "markdown",
   "id": "d4f6de7a-cfff-4891-9aef-fd97876d59f2",
   "metadata": {},
   "source": [
    "##### Step 4.3.2: Show content of short_summary.txt that provides summary statistics on the atmodat checker and CF checker results  "
   ]
  },
  {
   "cell_type": "code",
   "execution_count": null,
   "id": "771d7588-0d2e-4952-a146-2beeca166470",
   "metadata": {},
   "outputs": [],
   "source": [
    "%%bash\n",
    "cat myoutputdir/short_summary.txt"
   ]
  },
  {
   "cell_type": "markdown",
   "id": "a1fdedbd-9721-419f-b295-a1d280e58e26",
   "metadata": {},
   "source": [
    "##### Step 4.3.3: Show content of long_summary_recommended.csv"
   ]
  },
  {
   "cell_type": "code",
   "execution_count": null,
   "id": "372d61d4-b65a-4299-bb29-0c84ba4f52c2",
   "metadata": {},
   "outputs": [],
   "source": [
    "%%bash\n",
    "cat myoutputdir/long_summary_recommended.csv"
   ]
  },
  {
   "cell_type": "markdown",
   "id": "6bf1042f-7d0a-4951-a952-167ab0dc9a8e",
   "metadata": {},
   "source": [
    "<span style=\"color:red\">**--> File contains all recommended metadata, so the long_summary has no entry except of the header .**</span>"
   ]
  },
  {
   "cell_type": "markdown",
   "id": "ed302618-2cab-40b4-9770-e8f8e0a8beb3",
   "metadata": {},
   "source": [
    "##### Step 4.3.4: Show content of the output file that contains the check against the ATMODAT Standard (machine readible JSON file)"
   ]
  },
  {
   "cell_type": "code",
   "execution_count": null,
   "id": "6a2b5e89-e64d-43c2-9885-e89258a13740",
   "metadata": {},
   "outputs": [],
   "source": [
    "%%bash\n",
    "head -60  myoutputdir/atmodat/ALL_ATMODAT_ATTRIBUTES_atmodat_result.json"
   ]
  },
  {
   "cell_type": "markdown",
   "id": "bffa7100-80be-4d81-a59c-99562ede405b",
   "metadata": {},
   "source": [
    "#### Step 4.3.5: Show content of the output file that contains the check against the CF Standard\n",
    "The output formatting is preset by the cfchecks routine"
   ]
  },
  {
   "cell_type": "code",
   "execution_count": null,
   "id": "3965c73a-995a-444f-9044-7b5042bde2f3",
   "metadata": {},
   "outputs": [],
   "source": [
    "%%bash\n",
    "cat myoutputdir/CF/ALL_ATMODAT_ATTRIBUTES_cfchecks_result.txt"
   ]
  },
  {
   "cell_type": "markdown",
   "id": "c75a6816-39d5-440e-9a58-e67f61487108",
   "metadata": {},
   "source": [
    "#### Step 4.3: Check all files contained in directory demo_data and write checker output to output directory *myoutputdir2*\n",
    "*Notes* <br>\n",
    "* Let the checker run over all files contained in the entire directory demo_data (-p flag).\n",
    "* Write checker output to output directory *myoutputdir2* (-op flag).\n",
    "* We use the -s option to create summary checker output (files: short_summary.txt and long_summary_*.csv)"
   ]
  },
  {
   "cell_type": "code",
   "execution_count": null,
   "id": "79507ac6-35f5-4fca-bdf8-0aae1bccfe72",
   "metadata": {},
   "outputs": [],
   "source": [
    "%%bash\n",
    "run_checks.py -s -p demo_data/ -op myoutputdir2"
   ]
  },
  {
   "cell_type": "markdown",
   "id": "88a568fb-1c2e-4188-b07f-137394545ce8",
   "metadata": {},
   "source": [
    "#### Step 4.4: Check content of the checker output directory myoutputdir2"
   ]
  },
  {
   "cell_type": "markdown",
   "id": "ee3669a6-29d8-4a07-8744-c4a56d2e3a9e",
   "metadata": {},
   "source": [
    "##### Step 4.4.1: List folders and subfolders"
   ]
  },
  {
   "cell_type": "code",
   "execution_count": null,
   "id": "4114ad8c-fe2e-4c7c-b547-2914cd94e67f",
   "metadata": {},
   "outputs": [],
   "source": [
    "%%bash\n",
    "ls -g myoutputdir2\n",
    "echo $'\\n=====  atmodat subdirectory with detailed checker output ===='\n",
    "#echo '\\n =====  atmodat subdirectory with detailed checker output ===='\n",
    "ls -g myoutputdir2/atmodat\n",
    "echo $'\\n======  CF subdirectory with detailed checker output ===='\n",
    "ls -g myoutputdir2/CF"
   ]
  },
  {
   "cell_type": "markdown",
   "id": "88ac8076-ae2b-464b-82eb-77b00cbbeabc",
   "metadata": {},
   "source": [
    "##### Step 4.4.2: Show content of short_summary.txt that provides summary statistics on the atmodat checker and CF checker results  "
   ]
  },
  {
   "cell_type": "code",
   "execution_count": null,
   "id": "5bea43a9-9666-4495-92f8-ee3c5d8ae336",
   "metadata": {},
   "outputs": [],
   "source": [
    "%%bash\n",
    "cat myoutputdir2/short_summary.txt"
   ]
  },
  {
   "cell_type": "markdown",
   "id": "4c83456e-2e4e-45d5-9a11-704685ede69b",
   "metadata": {},
   "source": [
    "##### Step 4.4.2: Show content of long_summary_mandatory.csv"
   ]
  },
  {
   "cell_type": "code",
   "execution_count": null,
   "id": "574d6f72-a57b-49d7-93c1-21066f5a2278",
   "metadata": {},
   "outputs": [],
   "source": [
    "%%bash\n",
    "cat myoutputdir2/long_summary_mandatory.csv"
   ]
  },
  {
   "cell_type": "markdown",
   "id": "be256f28-1141-4994-8642-69f501b26498",
   "metadata": {},
   "source": [
    "<span style=\"color:red\">**--> lon_summary_mandatory.txt lists all mandatory errors detected in any file contained in the directory demo_data. <br> \n",
    "    The content of the global attribute *Conventions* is 'CF-1.7 CMIP-6.2' , but for meeting the ATMODAT Standard, this attribute has to be 'CF-1.8 ATMODAT-3.0'**</span>"
   ]
  },
  {
   "cell_type": "markdown",
   "id": "6e3b63e1-ba9b-4426-834a-1fcba31adeb4",
   "metadata": {},
   "source": [
    "##### Step 4.4.3: Show content of long_summary_recommended.csv"
   ]
  },
  {
   "cell_type": "code",
   "execution_count": null,
   "id": "b7623719-e81b-4616-9d62-4c94429880fe",
   "metadata": {},
   "outputs": [],
   "source": [
    "%%bash\n",
    "head -20 myoutputdir2/long_summary_recommended.csv"
   ]
  },
  {
   "cell_type": "markdown",
   "id": "43b86d64-4bd2-4ade-a8a3-62ef6bf1e826",
   "metadata": {},
   "source": [
    "##### Step 4.4.4: Show content of the output file that contains the check against the ATMODAT Standard (machine readible JSON file)"
   ]
  },
  {
   "cell_type": "code",
   "execution_count": null,
   "id": "6df0b7fd-ef2f-4e50-8c08-127ea680f164",
   "metadata": {},
   "outputs": [],
   "source": [
    "%%bash\n",
    "head -40  myoutputdir2/atmodat/NO_ATTRIBUTES_atmodat_result.json"
   ]
  },
  {
   "cell_type": "markdown",
   "id": "7460618a-2d00-4b24-8762-442963999775",
   "metadata": {},
   "source": [
    "##### Step 4.4.5: Check which file provoked an error message in the CF checker"
   ]
  },
  {
   "cell_type": "code",
   "execution_count": null,
   "id": "1d26a6ab-c7dc-45e5-972f-16025c4d79f3",
   "metadata": {
    "tags": []
   },
   "outputs": [],
   "source": [
    "%%bash\n",
    "ls -l myoutputdir2/CF\n",
    "\n",
    "\n",
    "grep -l Invalid myoutputdir2/CF/*.txt"
   ]
  },
  {
   "cell_type": "markdown",
   "id": "fe84c132-8729-4908-aa87-243c33fb4e85",
   "metadata": {},
   "source": [
    "#### Check all files in the directory demo_data and and put the output into the folder checkeroutput. Also include a test summary (option -s)"
   ]
  },
  {
   "cell_type": "markdown",
   "id": "2584f6cc-3bf1-4ccc-bb63-b007c3fb4258",
   "metadata": {},
   "source": [
    "# APPENDIX"
   ]
  },
  {
   "cell_type": "markdown",
   "id": "d42e83a7-0b74-457a-93b3-9b7f4ffb1d4b",
   "metadata": {},
   "source": [
    "#### How the CMIP6 sample files were prepared \n",
    "See more details on the CMIP6 experiment: https://cera-www.dkrz.de/WDCC/ui/cerasearch/cmip6?input=CMIP6.CMIP.MPI-M.MPI-ESM1-2-HR.historical <br>"
   ]
  },
  {
   "cell_type": "markdown",
   "id": "30d5017f-ae4d-45db-ab7f-7775fd57e095",
   "metadata": {},
   "source": [
    "##### Merge the variables ps and tas into a single netCDF file, subset region of Germany and select the day 2010-07-12"
   ]
  },
  {
   "cell_type": "raw",
   "id": "9e7513fe-362f-4478-9ed9-be39a8352f1d",
   "metadata": {},
   "source": [
    "%%bash\n",
    "\n",
    "#-- make output directory for test files\n",
    "odir='demo_data'\n",
    "mkdir -p ${odir}\n",
    "cd ${odir}\n",
    "fileroot='3hr_MPI-ESM1-2-HR_historical_r6i1p1f1_gn_201001010300-201501010000' \n",
    "#-- get surface pressure data\n",
    "wget http://esgf3.dkrz.de/thredds/fileServer/cmip6/CMIP/MPI-M/MPI-ESM1-2-HR/historical/r6i1p1f1/3hr/ps/gn/v20190710/ps_${fileroot}.nc\n",
    "#-- get (surface) air temperature data\n",
    "wget http://esgf3.dkrz.de/thredds/fileServer/cmip6/CMIP/MPI-M/MPI-ESM1-2-HR/historical/r6i1p1f1/3hr/tas/gn/v20190710/tas_${fileroot}.nc\n",
    "\n",
    "#-- subset data: extract 2010-07-12 and region of Germany\n",
    "ofileroot='CMIP6_MPI-ESM1-2-HR_hist_r6i1p1f1'\n",
    "region='Germany'\n",
    "lonlatbox='5,15,47,55'\n",
    "for var in ps tas;do cdo seldate,2010-07-12 -sellonlatbox,${lonlatbox} ${var}_${fileroot}.nc ${var}_${ofileroot}_${region}_2010-07-12.nc;done\n",
    "rm -f *_${fileroot}.nc\n",
    "\n",
    "cdo -s merge {??,???}_${ofileroot}_${region}_2010-07-12.nc CMIP6_ATTRIBUTES.nc\n",
    "rm -f {??,???}_${ofileroot}_${region}_2010-07-12.nc"
   ]
  },
  {
   "cell_type": "markdown",
   "id": "9c86f9cf-2a08-4735-904e-e88175176aae",
   "metadata": {},
   "source": [
    "##### Modify the CMIP6 metadata to create the files: NOATTRIBUTES.nc, MINUM_ATMODAT_ATTRIBUTES.nc, WRONG_STANDARD_NAME.nc"
   ]
  },
  {
   "cell_type": "raw",
   "id": "d0d355d6-dc01-42e7-85c0-72befe7ef72f",
   "metadata": {},
   "source": [
    "%%bash\n",
    "\n",
    "cp -p CMIP6_ATTRIBUTES.nc NOATTRIBUTES.nc\n",
    "ncatted -h -a ,global,d,, -a ,,d,, NOATTRIBUTES.nc\n",
    "ncks -h -O -C -x -v lon_bnds,lat_bnds,time_bnds,height NOATTRIBUTES.nc tmpfile; mv tmpfile NOATTRIBUTES.nc\n",
    "\n",
    "cp -p CMIP6_ATTRIBUTES.nc MINUM_ATMODAT_ATTRIBUTES.nc\n",
    "ncatted -O -h -a ,global,d,, -a Conventions,global,c,c,'CF-1.8 ATMODAT-3.0' -a institution,global,c,c,'Max Planck Institute for Meteorology' \\\n",
    "             -a source,global,c,c,'MPI-ESM1.2-HR (2017)' MINUM_ATMODAT_ATTRIBUTES.nc\n",
    "for varatt in history comment standard_name axis bounds coordinates CDI_grid_type CDI_grid_num_LPE _FillValue missing_value \\\n",
    "              cell_methods cell_measures; do ncatted -h -O -a ${varatt},,d,, MINUM_ATMODAT_ATTRIBUTES.nc;done\n",
    "ncks -h -O -C -x -v lon_bnds,lat_bnds,time_bnds,height MINUM_ATMODAT_ATTRIBUTES.nc tmpfile;mv tmpfile MINUM_ATMODAT_ATTRIBUTES.nc\n",
    "\n",
    "\n",
    "cp -p MINUM_ATMODAT_ATTRIBUTES.nc WRONG_STANDARD_NAME.nc\n",
    "ncatted -O -h -a standard_name,ps,c,c,\"surface_air_pressure\" -a units,ps,d,, -a standard_name,time,c,c,\"times\" \\\n",
    "              -a standard_name,tas,c,c,\"air_temperature\" -a units,tas,o,c,\"°C\" WRONG_STANDARD_NAME.nc"
   ]
  },
  {
   "cell_type": "markdown",
   "id": "dbcf5d9d-d92e-482b-ab08-413a7bf3a800",
   "metadata": {},
   "source": [
    "##### Modify the CMIP6 metadata to create the file: ALL_ATMODAT_ATTRIBUTES.nc"
   ]
  },
  {
   "cell_type": "raw",
   "id": "97997f8a-bcb9-4cc1-95d7-25e1825244e8",
   "metadata": {},
   "source": [
    "%%bash\n",
    "\n",
    "creator='Jungclaus, Johann, https://orcid.org/0000-0002-3849-4339 et al.'     #-- optimally add full list of creators; \n",
    "# for CMIP6, the list would be very long, https://cera-www.dkrz.de/WDCC/ui/cerasearch/cmip6?input=CMIP6.CMIP.MPI-M.MPI-ESM1-2-HR.historical.r6i1p1f1.6hrPlev.tas.gn.v20190815 which is why we truncate it in this example file\n",
    "crs='WGS84 (T127 gaussian grid)'                                              #-- gridtype is Gaussian, globally 384 x 192 longitude/latitude\n",
    "geospatial_lat_resolution='0.94 degree'                                          #-- approximate value   \n",
    "geospatial_lon_resolution='0.9375 degree' \n",
    "geospatial_vertical_resolution='point'                                        #-- only surface layer\n",
    "keywords='CMIP, COUPLED CLIMATE MODELS'\n",
    "standard_name_vocabulary='CF Standard Name Table v77'\n",
    "summary='These data have been generated as part of the internationally-coordinated Coupled Model Intercomparison Project Phase 6 (CMIP6; see also GMD Special Issue: http://www.geosci-model-dev.net/special_issue590.html). The data contained in this file represents MPI-M MPI-ESM1.2-HR model output prepared for CMIP6 CMIP historical.'\n",
    "comment='This file has been prepared for the EMS21 user workshop https://meetingorganizer.copernicus.org/EMS2021/session/41771. The user workshop focusses on netCDF metadata. '\n",
    "featureType='point'\n",
    "keywords_vocabulary='GCMD'\n",
    "\n",
    "\n",
    "metadata_link='https://cera-www.dkrz.de/WDCC/ui/cerasearch/cmip6?input=CMIP6.CMIP.MPI-M.MPI-ESM1-2-HR'\n",
    "processing_level='not applicable; data are model data'\n",
    "program='CMIP6'\n",
    "project='CMIP6'\n",
    "\n",
    "cp -p demo_data/CMIP6_ATTRIBUTES.nc demo_data/ALL_ATMODAT_ATTRIBUTES.nc\n",
    "\n",
    "\n",
    "#-- Recommended ATMODAT global attributes NOT contained in CMIP6 attributes:\n",
    "rec_att_AS_miss=\"'creator' 'crs' 'geospatial_lat_resolution' 'geospatial_lon_resolution' 'geospatial_vertical_resolution' 'keywords' 'standard_name_vocabulary' 'summary'\"\n",
    "rec_att_AS_mand=\"'Conventions' 'institution' 'source'\"\n",
    "rec_att_AS_rec=\"''contact' 'creation_date' 'creator' 'crs' 'frequency' 'geospatial_lat_resolution' 'geospatial_lon_resolution' 'geospatial_vertical_resolution' 'history' 'institution_id' 'keywords' 'license' 'nominal_resolution' 'realm' 'source_type' 'standard_name_vocabulary' 'summary' 'title'\"\n",
    "rec_att_AS_opt=\"'comment' 'featureType' 'further_info_url' 'keywords_vocabulary' 'metadata_link' 'processing_level' 'program' 'project' 'references'\"\n",
    "conv_att_AS='CF-1.8 ATMODAT-3.0'                            #-- required Conventions entry in ATMODAT Standard\n",
    "conv_att_C6='CF-1.7 CMIP-6.2'                               #-- required Conventions entry in CMIP6 Standard\n",
    "\n",
    "\n",
    "\n",
    "#-- Get all CMIP6 global attributes\n",
    "rec_att_C6_all=`ncdump -h demo_data/ALL_ATMODAT_ATTRIBUTES.nc|grep '\\s:'|cut -d: -f2|cut -d= -f1|tr -d ' '|sed -e \"s/^/'/\" -e \"s/$/' /\"|tr -d '\\n'`\n",
    "\n",
    "#-- Remove all CMIP6 global attributes that are not requiered for the ATMODAT standard\n",
    "for rec in $rec_att_C6_all;do\n",
    "    rec2=`echo $rec|tr -d \\'\\\" `\n",
    "    grep_res=`echo $rec_att_AS_mand $rec_att_AS_rec $rec_att_AS_opt |grep $rec2`\n",
    "    if [ -z \"${grep_res}\" ]; then\n",
    "        ncatted -O -h -a $rec2,global,d,, demo_data/ALL_ATMODAT_ATTRIBUTES.nc\n",
    "    fi\n",
    "done\n",
    "\n",
    "#-- Get all CMIP6 global attributes that are also ATMODAT global attributes\n",
    "rec_att_C6_min=`ncdump -h demo_data/ALL_ATMODAT_ATTRIBUTES.nc|grep '\\s:'|cut -d: -f2|cut -d= -f1|tr -d ' '|sed -e \"s/^/'/\" -e \"s/$/' /\"|tr -d '\\n'`\n",
    "\n",
    "\n",
    "#-- Get all ATMODAT global attributes that are not provided by the CMIP6 global attributes\n",
    "for rec in $rec_att_AS_mand $rec_att_AS_rec $rec_att_AS_opt;do\n",
    "    rec2=`echo $rec|tr -d \\'\\\" `\n",
    "    grep_res=`echo $rec_att_C6_min |grep $rec2`\n",
    "    if [ -z \"${grep_res}\" ]; then\n",
    "        eval attributetext=\\$$rec2\n",
    "        ncatted -O -h -a $rec2,global,c,c,\"`echo $attributetext`\" demo_data/ALL_ATMODAT_ATTRIBUTES.nc\n",
    "    fi\n",
    "done\n",
    "\n",
    "#-- Replace CMIP Conventions attribute with ATMODAT Conventions attribute\n",
    "ncatted -O -h -a Conventions,global,o,c,\"$conv_att_AS\" demo_data/ALL_ATMODAT_ATTRIBUTES.nc\n",
    "\n",
    "#-- Remove variable attributes which are not mandatory to the ATMODAT standard\n",
    "ncks -h -O -C -x -v lon_bnds,lat_bnds,time_bnds,height demo_data/ALL_ATMODAT_ATTRIBUTES.nc tmpfile; mv tmpfile demo_data/ALL_ATMODAT_ATTRIBUTES.nc\n",
    "for varatt in history comment axis bounds coordinates CDI_grid_type CDI_grid_num_LPE _FillValue missing_value cell_methods cell_measures; do \n",
    "    ncatted -h -O -a ${varatt},,d,, demo_data/ALL_ATMODAT_ATTRIBUTES.nc\n",
    "done\n",
    "\n",
    "\n",
    "\n"
   ]
  }
 ],
 "metadata": {
  "kernelspec": {
   "display_name": "cams63",
   "language": "python",
   "name": "cams63"
  },
  "language_info": {
   "codemirror_mode": {
    "name": "ipython",
    "version": 3
   },
   "file_extension": ".py",
   "mimetype": "text/x-python",
   "name": "python",
   "nbconvert_exporter": "python",
   "pygments_lexer": "ipython3",
   "version": "3.9.6"
  }
 },
 "nbformat": 4,
 "nbformat_minor": 5
}
