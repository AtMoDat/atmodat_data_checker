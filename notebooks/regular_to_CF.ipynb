{
  "nbformat": 4,
  "nbformat_minor": 0,
  "metadata": {
    "colab": {
      "name": "regular_to_CF.ipynb",
      "provenance": [],
      "collapsed_sections": [],
      "toc_visible": true
    },
    "kernelspec": {
      "name": "python3",
      "display_name": "Python 3"
    },
    "language_info": {
      "name": "python"
    }
  },
  "cells": [
    {
      "cell_type": "code",
      "metadata": {
        "id": "6Ubf7_P-jkAg"
      },
      "source": [
        "\n",
        "\n"
      ],
      "execution_count": 6,
      "outputs": []
    },
    {
      "cell_type": "markdown",
      "metadata": {
        "id": "x7xJS69ohxCD"
      },
      "source": [
        "## Example to create "
      ]
    },
    {
      "cell_type": "code",
      "metadata": {
        "id": "5EhIEzn7htQk"
      },
      "source": [
        ""
      ],
      "execution_count": null,
      "outputs": []
    },
    {
      "cell_type": "markdown",
      "metadata": {
        "id": "mUvQjce1hsK9"
      },
      "source": [
        ""
      ]
    },
    {
      "cell_type": "code",
      "metadata": {
        "id": "0zuQY24yf24m"
      },
      "source": [
        "#!/usr/bin/env python3\n",
        "\n",
        "#-- code from https://github.com/NCAR/VAPOR/blob/readTheDocs/docs/data/regularToCF.py\n",
        "\n",
        "#-- to split a cell in Google Colab, use Ctrl + M + - (⌘ + M + - on Mac)\n",
        "\n",
        "import xarray as xr\n",
        "import numpy as np\n",
        "\n",
        "# These are to download the sample data\n",
        "from pathlib import Path\n",
        "from google_drive_downloader import GoogleDriveDownloader as gdd\n"
      ],
      "execution_count": 1,
      "outputs": []
    },
    {
      "cell_type": "code",
      "metadata": {
        "colab": {
          "base_uri": "https://localhost:8080/",
          "height": 34
        },
        "id": "TXQARlzFlg6S",
        "outputId": "46f57988-0a44-417a-aaeb-e793347284b9"
      },
      "source": [
        "\n",
        "# Download the sample data from google drive\n",
        "home = str(Path.home())\n",
        "simpleNC = home + \"/simple1.nc\"\n",
        "gdd.download_file_from_google_drive(file_id='18CFrtFxvHwfL30Xd91TNU38J_z-Kgywm',\n",
        "                                     dest_path=simpleNC,\n",
        "                                     unzip=False)\n",
        "from google.colab import files\n",
        "files.download(simpleNC)\n"
      ],
      "execution_count": 3,
      "outputs": [
        {
          "output_type": "stream",
          "text": [
            "Downloading 18CFrtFxvHwfL30Xd91TNU38J_z-Kgywm into /root/simple1.nc... Done.\n"
          ],
          "name": "stdout"
        },
        {
          "output_type": "display_data",
          "data": {
            "application/javascript": [
              "\n",
              "    async function download(id, filename, size) {\n",
              "      if (!google.colab.kernel.accessAllowed) {\n",
              "        return;\n",
              "      }\n",
              "      const div = document.createElement('div');\n",
              "      const label = document.createElement('label');\n",
              "      label.textContent = `Downloading \"${filename}\": `;\n",
              "      div.appendChild(label);\n",
              "      const progress = document.createElement('progress');\n",
              "      progress.max = size;\n",
              "      div.appendChild(progress);\n",
              "      document.body.appendChild(div);\n",
              "\n",
              "      const buffers = [];\n",
              "      let downloaded = 0;\n",
              "\n",
              "      const channel = await google.colab.kernel.comms.open(id);\n",
              "      // Send a message to notify the kernel that we're ready.\n",
              "      channel.send({})\n",
              "\n",
              "      for await (const message of channel.messages) {\n",
              "        // Send a message to notify the kernel that we're ready.\n",
              "        channel.send({})\n",
              "        if (message.buffers) {\n",
              "          for (const buffer of message.buffers) {\n",
              "            buffers.push(buffer);\n",
              "            downloaded += buffer.byteLength;\n",
              "            progress.value = downloaded;\n",
              "          }\n",
              "        }\n",
              "      }\n",
              "      const blob = new Blob(buffers, {type: 'application/binary'});\n",
              "      const a = document.createElement('a');\n",
              "      a.href = window.URL.createObjectURL(blob);\n",
              "      a.download = filename;\n",
              "      div.appendChild(a);\n",
              "      a.click();\n",
              "      div.remove();\n",
              "    }\n",
              "  "
            ],
            "text/plain": [
              "<IPython.core.display.Javascript object>"
            ]
          },
          "metadata": {}
        },
        {
          "output_type": "display_data",
          "data": {
            "application/javascript": [
              "download(\"download_b79a6ccc-7af3-4b08-a3be-a0cdbcbbeb06\", \"simple1.nc\", 454995)"
            ],
            "text/plain": [
              "<IPython.core.display.Javascript object>"
            ]
          },
          "metadata": {}
        }
      ]
    },
    {
      "cell_type": "code",
      "metadata": {
        "colab": {
          "base_uri": "https://localhost:8080/"
        },
        "id": "zQU365xullEB",
        "outputId": "eefebfb6-76cc-40c3-96a7-991a168b583a"
      },
      "source": [
        "\n",
        "ds = xr.open_dataset(simpleNC)\n",
        "\n",
        "ds.info()\n",
        "\n"
      ],
      "execution_count": 4,
      "outputs": [
        {
          "output_type": "stream",
          "text": [
            "xarray.Dataset {\n",
            "dimensions:\n",
            "\ttime = 1 ;\n",
            "\tx = 48 ;\n",
            "\ty = 48 ;\n",
            "\tz = 24 ;\n",
            "\n",
            "variables:\n",
            "\tfloat64 temperature(time, z, y, x) ;\n",
            "\n",
            "// global attributes:\n",
            "}"
          ],
          "name": "stdout"
        }
      ]
    },
    {
      "cell_type": "markdown",
      "metadata": {
        "id": "hZTmBIowj3jU"
      },
      "source": [
        "# Neuer Abschnitt"
      ]
    },
    {
      "cell_type": "code",
      "metadata": {
        "colab": {
          "base_uri": "https://localhost:8080/",
          "height": 1000
        },
        "id": "sm-X6MZkgFjr",
        "outputId": "af748363-4a3e-4cdb-be01-797256b95789"
      },
      "source": [
        "\n",
        "ds['time'] = np.linspace(start=0, stop=0, num=1);\n",
        "  \n",
        "# Generate coordinates for x, y, z dimensions using numpy's linspace \n",
        "# https://numpy.org/doc/stable/reference/generated/numpy.linspace.html\n",
        "  \n",
        "ds['y'] = np.linspace(start=0, stop=100, num=48)\n",
        "ds['x'] = np.linspace(start=0, stop=100, num=48)\n",
        "ds['z'] = np.linspace(start=0, stop=50, num=24)\n",
        "\n",
        "ds.info() \n",
        "\n",
        "ds.time.attrs['axis']      = 'T'\n",
        "ds.x.attrs['axis']         = 'X'\n",
        "ds.y.attrs['axis']         = 'Y'\n",
        "ds.z.attrs['axis']         = 'Z'\n",
        "\n",
        "ds.time.attrs['units']     = 'seconds since 2000-0101'\n",
        "ds.x.attrs['units']        = 'm'\n",
        "ds.y.attrs['units']        = 'm'\n",
        "ds.z.attrs['units']        = 'm'\n",
        "\n",
        "ds.temperature.attrs['units'] = 'K'\n",
        "\n",
        "ds.info()\n",
        "\n",
        "ds.to_netcdf( home + \"/regularCompliant.nc\")\n",
        "\n",
        "ds.isel(time=0, z=0).temperature.plot(size=6, robust=True);"
      ],
      "execution_count": 5,
      "outputs": [
        {
          "output_type": "stream",
          "text": [
            "xarray.Dataset {\n",
            "dimensions:\n",
            "\ttime = 1 ;\n",
            "\tx = 48 ;\n",
            "\ty = 48 ;\n",
            "\tz = 24 ;\n",
            "\n",
            "variables:\n",
            "\tfloat64 temperature(time, z, y, x) ;\n",
            "\tfloat64 time(time) ;\n",
            "\tfloat64 y(y) ;\n",
            "\tfloat64 x(x) ;\n",
            "\tfloat64 z(z) ;\n",
            "\n",
            "// global attributes:\n",
            "}xarray.Dataset {\n",
            "dimensions:\n",
            "\ttime = 1 ;\n",
            "\tx = 48 ;\n",
            "\ty = 48 ;\n",
            "\tz = 24 ;\n",
            "\n",
            "variables:\n",
            "\tfloat64 temperature(time, z, y, x) ;\n",
            "\t\ttemperature:units = K ;\n",
            "\tfloat64 time(time) ;\n",
            "\t\ttime:axis = T ;\n",
            "\t\ttime:units = seconds since 2000-0101 ;\n",
            "\tfloat64 y(y) ;\n",
            "\t\ty:axis = Y ;\n",
            "\t\ty:units = m ;\n",
            "\tfloat64 x(x) ;\n",
            "\t\tx:axis = X ;\n",
            "\t\tx:units = m ;\n",
            "\tfloat64 z(z) ;\n",
            "\t\tz:axis = Z ;\n",
            "\t\tz:units = m ;\n",
            "\n",
            "// global attributes:\n",
            "}"
          ],
          "name": "stdout"
        },
        {
          "output_type": "display_data",
          "data": {
            "image/png": "[encoded data removed]",
            "text/plain": [
              "<Figure size 648x432 with 2 Axes>"
            ]
          },
          "metadata": {
            "needs_background": "light"
          }
        }
      ]
    },
    {
      "cell_type": "code",
      "metadata": {
        "id": "KHGyN92nkx6M"
      },
      "source": [
        ""
      ],
      "execution_count": 5,
      "outputs": []
    }
  ]
}